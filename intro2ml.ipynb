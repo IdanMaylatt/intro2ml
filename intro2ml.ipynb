{
 "cells": [
  {
   "cell_type": "markdown",
   "id": "66f24c5f",
   "metadata": {},
   "source": [
    "<div class=\"alert alert-success\">\n",
    "<b>Reviewer's comment V2</b>\n",
    "\n",
    "I added some comments with answers to your questions, please check them out! The project is accepted now. Keep up the good work on the next sprint!\n",
    "    \n",
    "\n",
    "</div>"
   ]
  },
  {
   "cell_type": "markdown",
   "id": "e653149e",
   "metadata": {},
   "source": [
    "**Review**\n",
    "\n",
    "Hi, my name is Dmitry and I will be reviewing your project.\n",
    "  \n",
    "You can find my comments in colored markdown cells:\n",
    "  \n",
    "<div class=\"alert alert-success\">\n",
    "  If everything is done successfully.\n",
    "</div>\n",
    "  \n",
    "<div class=\"alert alert-warning\">\n",
    "  If I have some (optional) suggestions, or questions to think about, or general comments.\n",
    "</div>\n",
    "  \n",
    "<div class=\"alert alert-danger\">\n",
    "  If a section requires some corrections. Work can't be accepted with red comments.\n",
    "</div>\n",
    "  \n",
    "Please don't remove my comments, as it will make further review iterations much harder for me.\n",
    "  \n",
    "Feel free to reply to my comments or ask questions using the following template:\n",
    "  \n",
    "<div class=\"alert alert-info\">\n",
    "  For your comments and questions.\n",
    "</div>\n",
    "  \n",
    "First of all, thank you for turning in the project! You did a great job overall, there's just one small problem that needs to be fixed before the project can be accepted. Should be pretty straightforward though. Let me know if you have any questions!"
   ]
  },
  {
   "cell_type": "markdown",
   "id": "a61cfc60",
   "metadata": {},
   "source": [
    "<center style='font-size:28px;'><u><b>Intro 2 ML</b></u></center>"
   ]
  },
  {
   "cell_type": "markdown",
   "id": "9e3879a5",
   "metadata": {},
   "source": [
    "1. [Project Description](#start)\n",
    "    * [Data Description](#dd)\n",
    "2. [Import](#imp)\n",
    "3. [Preprocessing data](#pp)\n",
    "    \n",
    "4. [Splitting Data](#spldt)\n",
    "    * [Prepare Data for ML](#pdml)        \n",
    "5. [Quality of Different Models (Training)](#qtra)\n",
    "    * [DecisionTreeClassifier](#dtc)\n",
    "    * [RandomForestClassifier](#rfc)\n",
    "    * [LogisticRegression](#logr)\n",
    "        * [LibLinear](#pwrt)\n",
    "        * [verbose is insignificant](#logrverbins)\n",
    "        * [tol can be disregarded](#logrtolins)\n",
    "        * [C has 2 possibly preferred values](#logrcs)\n",
    "        * [intercept_scaling has an optimal value](#logriss)\n",
    "        * [class_weight can be disregarded](#logrcwins)\n",
    "        * [Tuning Summation](#logrtunsum)\n",
    "    * [DecisionTreeRegressor](#dtr)\n",
    "        * [ccp_alpha not needed to be specified](#ccopj)\n",
    "        * [min_impurity_decrease not needed to be specified](#impurtyb)\n",
    "        * [sketch for easy and extra slow check](#sktch)\n",
    "        * [DecisionTreeRegressor tuning summation](#dtrtunsum)\n",
    "    * [RandomForestRegressor](#rfr)\n",
    "    * [LinearRegression](#linr)\n",
    "    * [Tuning conclusions](#tratunconc)\n",
    "6. [Quality of Different Models (Test)](#qtst)\n",
    "    * [DecisionTreeClassifier](#dtct)\n",
    "    * [RandomForestClassifier](#rfct)\n",
    "    * [LogisticRegression](#logrt)\n",
    "    * [DecisionTreeRegressor](#dtrt)\n",
    "    * [RandomForestRegressor](#rfrt)\n",
    "    * [LinearRegression](#linrt)\n",
    "    * [Testing conclusions](#conctest)\n",
    "7. [Sanity Check](#schk)"
   ]
  },
  {
   "cell_type": "markdown",
   "id": "957d455d",
   "metadata": {},
   "source": [
    "# Project description <a id=\"start\"></a>"
   ]
  },
  {
   "cell_type": "markdown",
   "id": "213f6493",
   "metadata": {},
   "source": [
    "<ul>Mobile carrier Megaline has found out that many of their subscribers use legacy plans. They want to develop a model that would analyze subscribers behavior and recommend one of Megaline's newer plans: Smart or Ultra.</ul>\n",
    "<ul>Analysis here is performed on behavior data about subscribers who have already switched to the new plans.</ul>\n",
    "<ul>Aim's to develop a model with the highest possible accuracy (at least 75% accuracy on test dataset)</ul>\n",
    "\n",
    "<div><b>In particular:</b></div>\n",
    "\n",
    "- Split the source data into a training set, a validation set, and a test set\n",
    "- Investigate the quality of different models by changing hyperparameters\n",
    "- Investigate the quality of different models by their test sets\n",
    "- Sanity check the models"
   ]
  },
  {
   "cell_type": "markdown",
   "id": "18875094",
   "metadata": {},
   "source": [
    "## Description of the data <a id=\"dd\"></a>"
   ]
  },
  {
   "cell_type": "markdown",
   "id": "b662e393",
   "metadata": {},
   "source": [
    "<b>Every observation in the dataset contains monthly behavior information about one user</b>\n",
    "- **users_behavior**\n",
    "<ul>сalls — number of calls</ul>\n",
    "<ul>minutes — total call duration in minutes</ul>\n",
    "<ul>messages — number of text messages</ul>\n",
    "<ul>mb_used — Internet traffic used in MB</ul>\n",
    "<ul>is_ultra — plan for the current month (Ultra - 1, Smart - 0)</ul>"
   ]
  },
  {
   "cell_type": "markdown",
   "id": "fb68f317",
   "metadata": {},
   "source": [
    "# Imports <a id=\"imp\"></a>"
   ]
  },
  {
   "cell_type": "code",
   "execution_count": 1,
   "id": "1986e694",
   "metadata": {},
   "outputs": [
    {
     "name": "stdout",
     "output_type": "stream",
     "text": [
      "Defaulting to user installation because normal site-packages is not writeable\n",
      "Requirement already up-to-date: scikit-learn in /home/jovyan/.local/lib/python3.7/site-packages (1.0.2)\n",
      "Requirement already satisfied, skipping upgrade: threadpoolctl>=2.0.0 in /home/jovyan/.local/lib/python3.7/site-packages (from scikit-learn) (3.1.0)\n",
      "Requirement already satisfied, skipping upgrade: scipy>=1.1.0 in /opt/conda/lib/python3.7/site-packages (from scikit-learn) (1.4.1)\n",
      "Requirement already satisfied, skipping upgrade: joblib>=0.11 in /opt/conda/lib/python3.7/site-packages (from scikit-learn) (1.0.1)\n",
      "Requirement already satisfied, skipping upgrade: numpy>=1.14.6 in /opt/conda/lib/python3.7/site-packages (from scikit-learn) (1.19.5)\n",
      "Note: you may need to restart the kernel to use updated packages.\n"
     ]
    }
   ],
   "source": [
    "pip install -U scikit-learn"
   ]
  },
  {
   "cell_type": "code",
   "execution_count": 2,
   "id": "3695de89",
   "metadata": {},
   "outputs": [],
   "source": [
    "import pandas as pd\n",
    "import numpy as np\n",
    "from scipy import stats\n",
    "from sklearn.tree import DecisionTreeClassifier\n",
    "from sklearn.ensemble import RandomForestClassifier\n",
    "from sklearn.linear_model import LogisticRegression \n",
    "from sklearn.tree import DecisionTreeRegressor \n",
    "from sklearn.ensemble import RandomForestRegressor\n",
    "from sklearn.linear_model import LinearRegression\n",
    "from sklearn.model_selection import train_test_split\n",
    "from sklearn.metrics import accuracy_score"
   ]
  },
  {
   "cell_type": "markdown",
   "id": "cdf64411",
   "metadata": {},
   "source": [
    "# Pre-Processing <a id=\"pp\"></a>"
   ]
  },
  {
   "cell_type": "code",
   "execution_count": 3,
   "id": "02a62938",
   "metadata": {},
   "outputs": [],
   "source": [
    "try:\n",
    "    ub = pd.read_csv('users_behavior.csv')\n",
    "except:\n",
    "    ub = pd.read_csv('/datasets/users_behavior.csv')"
   ]
  },
  {
   "cell_type": "code",
   "execution_count": 4,
   "id": "e8bb7fbc",
   "metadata": {},
   "outputs": [
    {
     "name": "stdout",
     "output_type": "stream",
     "text": [
      "<class 'pandas.core.frame.DataFrame'>\n",
      "RangeIndex: 3214 entries, 0 to 3213\n",
      "Data columns (total 5 columns):\n",
      "calls       3214 non-null float64\n",
      "minutes     3214 non-null float64\n",
      "messages    3214 non-null float64\n",
      "mb_used     3214 non-null float64\n",
      "is_ultra    3214 non-null int64\n",
      "dtypes: float64(4), int64(1)\n",
      "memory usage: 125.7 KB\n"
     ]
    }
   ],
   "source": [
    "ub.info()"
   ]
  },
  {
   "cell_type": "markdown",
   "id": "df4dbee0",
   "metadata": {},
   "source": [
    "No missing values, and with no cast aside, all columns are casted as well"
   ]
  },
  {
   "cell_type": "code",
   "execution_count": 5,
   "id": "6a456850",
   "metadata": {},
   "outputs": [
    {
     "data": {
      "text/plain": [
       "0"
      ]
     },
     "execution_count": 5,
     "metadata": {},
     "output_type": "execute_result"
    }
   ],
   "source": [
    "ub.duplicated().sum()"
   ]
  },
  {
   "cell_type": "markdown",
   "id": "69f9b170",
   "metadata": {},
   "source": [
    "Also no dup's"
   ]
  },
  {
   "cell_type": "code",
   "execution_count": 6,
   "id": "cf279a0c",
   "metadata": {},
   "outputs": [
    {
     "data": {
      "text/html": [
       "<div>\n",
       "<style scoped>\n",
       "    .dataframe tbody tr th:only-of-type {\n",
       "        vertical-align: middle;\n",
       "    }\n",
       "\n",
       "    .dataframe tbody tr th {\n",
       "        vertical-align: top;\n",
       "    }\n",
       "\n",
       "    .dataframe thead th {\n",
       "        text-align: right;\n",
       "    }\n",
       "</style>\n",
       "<table border=\"1\" class=\"dataframe\">\n",
       "  <thead>\n",
       "    <tr style=\"text-align: right;\">\n",
       "      <th></th>\n",
       "      <th>calls</th>\n",
       "      <th>minutes</th>\n",
       "      <th>messages</th>\n",
       "      <th>mb_used</th>\n",
       "      <th>is_ultra</th>\n",
       "    </tr>\n",
       "  </thead>\n",
       "  <tbody>\n",
       "    <tr>\n",
       "      <td>0</td>\n",
       "      <td>40.0</td>\n",
       "      <td>311.90</td>\n",
       "      <td>83.0</td>\n",
       "      <td>19915.42</td>\n",
       "      <td>0</td>\n",
       "    </tr>\n",
       "    <tr>\n",
       "      <td>1</td>\n",
       "      <td>85.0</td>\n",
       "      <td>516.75</td>\n",
       "      <td>56.0</td>\n",
       "      <td>22696.96</td>\n",
       "      <td>0</td>\n",
       "    </tr>\n",
       "    <tr>\n",
       "      <td>2</td>\n",
       "      <td>77.0</td>\n",
       "      <td>467.66</td>\n",
       "      <td>86.0</td>\n",
       "      <td>21060.45</td>\n",
       "      <td>0</td>\n",
       "    </tr>\n",
       "    <tr>\n",
       "      <td>3</td>\n",
       "      <td>106.0</td>\n",
       "      <td>745.53</td>\n",
       "      <td>81.0</td>\n",
       "      <td>8437.39</td>\n",
       "      <td>1</td>\n",
       "    </tr>\n",
       "    <tr>\n",
       "      <td>4</td>\n",
       "      <td>66.0</td>\n",
       "      <td>418.74</td>\n",
       "      <td>1.0</td>\n",
       "      <td>14502.75</td>\n",
       "      <td>0</td>\n",
       "    </tr>\n",
       "  </tbody>\n",
       "</table>\n",
       "</div>"
      ],
      "text/plain": [
       "   calls  minutes  messages   mb_used  is_ultra\n",
       "0   40.0   311.90      83.0  19915.42         0\n",
       "1   85.0   516.75      56.0  22696.96         0\n",
       "2   77.0   467.66      86.0  21060.45         0\n",
       "3  106.0   745.53      81.0   8437.39         1\n",
       "4   66.0   418.74       1.0  14502.75         0"
      ]
     },
     "execution_count": 6,
     "metadata": {},
     "output_type": "execute_result"
    }
   ],
   "source": [
    "ub.head()"
   ]
  },
  {
   "cell_type": "markdown",
   "id": "e2e60ea2",
   "metadata": {},
   "source": [
    "Data's ready for analysis"
   ]
  },
  {
   "cell_type": "markdown",
   "id": "bacdc9cd",
   "metadata": {},
   "source": [
    "<div class=\"alert alert-success\">\n",
    "<b>Reviewer's comment</b>\n",
    "\n",
    "Alright, the data was loaded and inspected!\n",
    "\n",
    "</div>"
   ]
  },
  {
   "cell_type": "markdown",
   "id": "1f8f352d",
   "metadata": {},
   "source": [
    "# Splitting Data <a id=\"spldt\"></a>"
   ]
  },
  {
   "cell_type": "code",
   "execution_count": 7,
   "id": "4cccc281",
   "metadata": {},
   "outputs": [
    {
     "name": "stdout",
     "output_type": "stream",
     "text": [
      "train data:\n"
     ]
    },
    {
     "data": {
      "text/html": [
       "<div>\n",
       "<style scoped>\n",
       "    .dataframe tbody tr th:only-of-type {\n",
       "        vertical-align: middle;\n",
       "    }\n",
       "\n",
       "    .dataframe tbody tr th {\n",
       "        vertical-align: top;\n",
       "    }\n",
       "\n",
       "    .dataframe thead th {\n",
       "        text-align: right;\n",
       "    }\n",
       "</style>\n",
       "<table border=\"1\" class=\"dataframe\">\n",
       "  <thead>\n",
       "    <tr style=\"text-align: right;\">\n",
       "      <th></th>\n",
       "      <th>calls</th>\n",
       "      <th>minutes</th>\n",
       "      <th>messages</th>\n",
       "      <th>mb_used</th>\n",
       "      <th>is_ultra</th>\n",
       "    </tr>\n",
       "  </thead>\n",
       "  <tbody>\n",
       "    <tr>\n",
       "      <td>3027</td>\n",
       "      <td>60.0</td>\n",
       "      <td>431.56</td>\n",
       "      <td>26.0</td>\n",
       "      <td>14751.26</td>\n",
       "      <td>0</td>\n",
       "    </tr>\n",
       "    <tr>\n",
       "      <td>434</td>\n",
       "      <td>33.0</td>\n",
       "      <td>265.17</td>\n",
       "      <td>59.0</td>\n",
       "      <td>17398.02</td>\n",
       "      <td>0</td>\n",
       "    </tr>\n",
       "    <tr>\n",
       "      <td>1226</td>\n",
       "      <td>52.0</td>\n",
       "      <td>341.83</td>\n",
       "      <td>68.0</td>\n",
       "      <td>15462.38</td>\n",
       "      <td>0</td>\n",
       "    </tr>\n",
       "    <tr>\n",
       "      <td>1054</td>\n",
       "      <td>42.0</td>\n",
       "      <td>226.18</td>\n",
       "      <td>21.0</td>\n",
       "      <td>13243.48</td>\n",
       "      <td>0</td>\n",
       "    </tr>\n",
       "    <tr>\n",
       "      <td>1842</td>\n",
       "      <td>30.0</td>\n",
       "      <td>198.42</td>\n",
       "      <td>0.0</td>\n",
       "      <td>8189.53</td>\n",
       "      <td>0</td>\n",
       "    </tr>\n",
       "    <tr>\n",
       "      <td>...</td>\n",
       "      <td>...</td>\n",
       "      <td>...</td>\n",
       "      <td>...</td>\n",
       "      <td>...</td>\n",
       "      <td>...</td>\n",
       "    </tr>\n",
       "    <tr>\n",
       "      <td>2817</td>\n",
       "      <td>12.0</td>\n",
       "      <td>86.62</td>\n",
       "      <td>22.0</td>\n",
       "      <td>36628.85</td>\n",
       "      <td>1</td>\n",
       "    </tr>\n",
       "    <tr>\n",
       "      <td>546</td>\n",
       "      <td>65.0</td>\n",
       "      <td>458.46</td>\n",
       "      <td>0.0</td>\n",
       "      <td>15214.25</td>\n",
       "      <td>1</td>\n",
       "    </tr>\n",
       "    <tr>\n",
       "      <td>382</td>\n",
       "      <td>144.0</td>\n",
       "      <td>906.18</td>\n",
       "      <td>0.0</td>\n",
       "      <td>25002.44</td>\n",
       "      <td>1</td>\n",
       "    </tr>\n",
       "    <tr>\n",
       "      <td>2177</td>\n",
       "      <td>38.0</td>\n",
       "      <td>301.27</td>\n",
       "      <td>37.0</td>\n",
       "      <td>28914.24</td>\n",
       "      <td>1</td>\n",
       "    </tr>\n",
       "    <tr>\n",
       "      <td>482</td>\n",
       "      <td>160.0</td>\n",
       "      <td>1084.05</td>\n",
       "      <td>95.0</td>\n",
       "      <td>36843.92</td>\n",
       "      <td>1</td>\n",
       "    </tr>\n",
       "  </tbody>\n",
       "</table>\n",
       "<p>1928 rows × 5 columns</p>\n",
       "</div>"
      ],
      "text/plain": [
       "      calls  minutes  messages   mb_used  is_ultra\n",
       "3027   60.0   431.56      26.0  14751.26         0\n",
       "434    33.0   265.17      59.0  17398.02         0\n",
       "1226   52.0   341.83      68.0  15462.38         0\n",
       "1054   42.0   226.18      21.0  13243.48         0\n",
       "1842   30.0   198.42       0.0   8189.53         0\n",
       "...     ...      ...       ...       ...       ...\n",
       "2817   12.0    86.62      22.0  36628.85         1\n",
       "546    65.0   458.46       0.0  15214.25         1\n",
       "382   144.0   906.18       0.0  25002.44         1\n",
       "2177   38.0   301.27      37.0  28914.24         1\n",
       "482   160.0  1084.05      95.0  36843.92         1\n",
       "\n",
       "[1928 rows x 5 columns]"
      ]
     },
     "metadata": {},
     "output_type": "display_data"
    },
    {
     "name": "stdout",
     "output_type": "stream",
     "text": [
      "validation data:\n"
     ]
    },
    {
     "data": {
      "text/html": [
       "<div>\n",
       "<style scoped>\n",
       "    .dataframe tbody tr th:only-of-type {\n",
       "        vertical-align: middle;\n",
       "    }\n",
       "\n",
       "    .dataframe tbody tr th {\n",
       "        vertical-align: top;\n",
       "    }\n",
       "\n",
       "    .dataframe thead th {\n",
       "        text-align: right;\n",
       "    }\n",
       "</style>\n",
       "<table border=\"1\" class=\"dataframe\">\n",
       "  <thead>\n",
       "    <tr style=\"text-align: right;\">\n",
       "      <th></th>\n",
       "      <th>calls</th>\n",
       "      <th>minutes</th>\n",
       "      <th>messages</th>\n",
       "      <th>mb_used</th>\n",
       "      <th>is_ultra</th>\n",
       "    </tr>\n",
       "  </thead>\n",
       "  <tbody>\n",
       "    <tr>\n",
       "      <td>1386</td>\n",
       "      <td>92.0</td>\n",
       "      <td>536.96</td>\n",
       "      <td>18.0</td>\n",
       "      <td>20193.90</td>\n",
       "      <td>0</td>\n",
       "    </tr>\n",
       "    <tr>\n",
       "      <td>3124</td>\n",
       "      <td>40.0</td>\n",
       "      <td>286.57</td>\n",
       "      <td>17.0</td>\n",
       "      <td>17918.75</td>\n",
       "      <td>0</td>\n",
       "    </tr>\n",
       "    <tr>\n",
       "      <td>1956</td>\n",
       "      <td>81.0</td>\n",
       "      <td>531.22</td>\n",
       "      <td>56.0</td>\n",
       "      <td>17755.06</td>\n",
       "      <td>0</td>\n",
       "    </tr>\n",
       "    <tr>\n",
       "      <td>2286</td>\n",
       "      <td>67.0</td>\n",
       "      <td>460.76</td>\n",
       "      <td>27.0</td>\n",
       "      <td>16626.26</td>\n",
       "      <td>0</td>\n",
       "    </tr>\n",
       "    <tr>\n",
       "      <td>3077</td>\n",
       "      <td>22.0</td>\n",
       "      <td>120.09</td>\n",
       "      <td>16.0</td>\n",
       "      <td>9039.57</td>\n",
       "      <td>0</td>\n",
       "    </tr>\n",
       "    <tr>\n",
       "      <td>...</td>\n",
       "      <td>...</td>\n",
       "      <td>...</td>\n",
       "      <td>...</td>\n",
       "      <td>...</td>\n",
       "      <td>...</td>\n",
       "    </tr>\n",
       "    <tr>\n",
       "      <td>1999</td>\n",
       "      <td>56.0</td>\n",
       "      <td>398.45</td>\n",
       "      <td>4.0</td>\n",
       "      <td>23682.94</td>\n",
       "      <td>0</td>\n",
       "    </tr>\n",
       "    <tr>\n",
       "      <td>1023</td>\n",
       "      <td>76.0</td>\n",
       "      <td>601.10</td>\n",
       "      <td>0.0</td>\n",
       "      <td>17104.36</td>\n",
       "      <td>0</td>\n",
       "    </tr>\n",
       "    <tr>\n",
       "      <td>748</td>\n",
       "      <td>81.0</td>\n",
       "      <td>525.97</td>\n",
       "      <td>15.0</td>\n",
       "      <td>18878.91</td>\n",
       "      <td>0</td>\n",
       "    </tr>\n",
       "    <tr>\n",
       "      <td>1667</td>\n",
       "      <td>10.0</td>\n",
       "      <td>63.03</td>\n",
       "      <td>0.0</td>\n",
       "      <td>2568.00</td>\n",
       "      <td>1</td>\n",
       "    </tr>\n",
       "    <tr>\n",
       "      <td>3197</td>\n",
       "      <td>89.0</td>\n",
       "      <td>660.72</td>\n",
       "      <td>68.0</td>\n",
       "      <td>11711.54</td>\n",
       "      <td>0</td>\n",
       "    </tr>\n",
       "  </tbody>\n",
       "</table>\n",
       "<p>643 rows × 5 columns</p>\n",
       "</div>"
      ],
      "text/plain": [
       "      calls  minutes  messages   mb_used  is_ultra\n",
       "1386   92.0   536.96      18.0  20193.90         0\n",
       "3124   40.0   286.57      17.0  17918.75         0\n",
       "1956   81.0   531.22      56.0  17755.06         0\n",
       "2286   67.0   460.76      27.0  16626.26         0\n",
       "3077   22.0   120.09      16.0   9039.57         0\n",
       "...     ...      ...       ...       ...       ...\n",
       "1999   56.0   398.45       4.0  23682.94         0\n",
       "1023   76.0   601.10       0.0  17104.36         0\n",
       "748    81.0   525.97      15.0  18878.91         0\n",
       "1667   10.0    63.03       0.0   2568.00         1\n",
       "3197   89.0   660.72      68.0  11711.54         0\n",
       "\n",
       "[643 rows x 5 columns]"
      ]
     },
     "metadata": {},
     "output_type": "display_data"
    },
    {
     "name": "stdout",
     "output_type": "stream",
     "text": [
      "test data:\n"
     ]
    },
    {
     "data": {
      "text/html": [
       "<div>\n",
       "<style scoped>\n",
       "    .dataframe tbody tr th:only-of-type {\n",
       "        vertical-align: middle;\n",
       "    }\n",
       "\n",
       "    .dataframe tbody tr th {\n",
       "        vertical-align: top;\n",
       "    }\n",
       "\n",
       "    .dataframe thead th {\n",
       "        text-align: right;\n",
       "    }\n",
       "</style>\n",
       "<table border=\"1\" class=\"dataframe\">\n",
       "  <thead>\n",
       "    <tr style=\"text-align: right;\">\n",
       "      <th></th>\n",
       "      <th>calls</th>\n",
       "      <th>minutes</th>\n",
       "      <th>messages</th>\n",
       "      <th>mb_used</th>\n",
       "      <th>is_ultra</th>\n",
       "    </tr>\n",
       "  </thead>\n",
       "  <tbody>\n",
       "    <tr>\n",
       "      <td>160</td>\n",
       "      <td>61.0</td>\n",
       "      <td>495.11</td>\n",
       "      <td>8.0</td>\n",
       "      <td>10891.23</td>\n",
       "      <td>0</td>\n",
       "    </tr>\n",
       "    <tr>\n",
       "      <td>2498</td>\n",
       "      <td>80.0</td>\n",
       "      <td>555.04</td>\n",
       "      <td>28.0</td>\n",
       "      <td>28083.58</td>\n",
       "      <td>0</td>\n",
       "    </tr>\n",
       "    <tr>\n",
       "      <td>1748</td>\n",
       "      <td>87.0</td>\n",
       "      <td>697.23</td>\n",
       "      <td>0.0</td>\n",
       "      <td>8335.70</td>\n",
       "      <td>0</td>\n",
       "    </tr>\n",
       "    <tr>\n",
       "      <td>1816</td>\n",
       "      <td>41.0</td>\n",
       "      <td>275.80</td>\n",
       "      <td>9.0</td>\n",
       "      <td>10032.39</td>\n",
       "      <td>0</td>\n",
       "    </tr>\n",
       "    <tr>\n",
       "      <td>1077</td>\n",
       "      <td>60.0</td>\n",
       "      <td>428.49</td>\n",
       "      <td>20.0</td>\n",
       "      <td>29389.52</td>\n",
       "      <td>1</td>\n",
       "    </tr>\n",
       "    <tr>\n",
       "      <td>...</td>\n",
       "      <td>...</td>\n",
       "      <td>...</td>\n",
       "      <td>...</td>\n",
       "      <td>...</td>\n",
       "      <td>...</td>\n",
       "    </tr>\n",
       "    <tr>\n",
       "      <td>2401</td>\n",
       "      <td>55.0</td>\n",
       "      <td>446.06</td>\n",
       "      <td>79.0</td>\n",
       "      <td>26526.28</td>\n",
       "      <td>0</td>\n",
       "    </tr>\n",
       "    <tr>\n",
       "      <td>2928</td>\n",
       "      <td>102.0</td>\n",
       "      <td>742.65</td>\n",
       "      <td>58.0</td>\n",
       "      <td>16089.24</td>\n",
       "      <td>1</td>\n",
       "    </tr>\n",
       "    <tr>\n",
       "      <td>1985</td>\n",
       "      <td>52.0</td>\n",
       "      <td>349.94</td>\n",
       "      <td>42.0</td>\n",
       "      <td>12150.72</td>\n",
       "      <td>0</td>\n",
       "    </tr>\n",
       "    <tr>\n",
       "      <td>357</td>\n",
       "      <td>39.0</td>\n",
       "      <td>221.18</td>\n",
       "      <td>59.0</td>\n",
       "      <td>17865.23</td>\n",
       "      <td>0</td>\n",
       "    </tr>\n",
       "    <tr>\n",
       "      <td>2313</td>\n",
       "      <td>40.0</td>\n",
       "      <td>301.03</td>\n",
       "      <td>102.0</td>\n",
       "      <td>6057.63</td>\n",
       "      <td>0</td>\n",
       "    </tr>\n",
       "  </tbody>\n",
       "</table>\n",
       "<p>643 rows × 5 columns</p>\n",
       "</div>"
      ],
      "text/plain": [
       "      calls  minutes  messages   mb_used  is_ultra\n",
       "160    61.0   495.11       8.0  10891.23         0\n",
       "2498   80.0   555.04      28.0  28083.58         0\n",
       "1748   87.0   697.23       0.0   8335.70         0\n",
       "1816   41.0   275.80       9.0  10032.39         0\n",
       "1077   60.0   428.49      20.0  29389.52         1\n",
       "...     ...      ...       ...       ...       ...\n",
       "2401   55.0   446.06      79.0  26526.28         0\n",
       "2928  102.0   742.65      58.0  16089.24         1\n",
       "1985   52.0   349.94      42.0  12150.72         0\n",
       "357    39.0   221.18      59.0  17865.23         0\n",
       "2313   40.0   301.03     102.0   6057.63         0\n",
       "\n",
       "[643 rows x 5 columns]"
      ]
     },
     "metadata": {},
     "output_type": "display_data"
    }
   ],
   "source": [
    "df_train, df_valid = train_test_split(ub, test_size=0.4, random_state=12345) \n",
    "df_valid, df_test = train_test_split(df_valid, test_size=0.5, random_state=12345) \n",
    "print('train data:', end='\\n')\n",
    "display(df_train)\n",
    "print('validation data:', end='\\n')\n",
    "display(df_valid)\n",
    "print('test data:', end='\\n')\n",
    "display(df_test)"
   ]
  },
  {
   "cell_type": "markdown",
   "id": "f55d9b50",
   "metadata": {},
   "source": [
    "A 3:1:1 division"
   ]
  },
  {
   "cell_type": "markdown",
   "id": "2d04d77d",
   "metadata": {},
   "source": [
    "<div class=\"alert alert-success\">\n",
    "<b>Reviewer's comment</b>\n",
    "\n",
    "The data was split into train, validation and test sets. The proportions are reasonable\n",
    "\n",
    "</div>"
   ]
  },
  {
   "cell_type": "markdown",
   "id": "04e2b108",
   "metadata": {},
   "source": [
    "## Prepare data for ML <a id=\"pdml\"></a>"
   ]
  },
  {
   "cell_type": "code",
   "execution_count": 8,
   "id": "46385515",
   "metadata": {},
   "outputs": [],
   "source": [
    "features_train = df_train.drop('is_ultra',axis=1)\n",
    "target_train = df_train['is_ultra']\n",
    "features_valid = df_valid.drop('is_ultra',axis=1)\n",
    "target_valid = df_valid['is_ultra']\n",
    "features_test = df_test.drop('is_ultra',axis=1)\n",
    "target_test = df_test['is_ultra']"
   ]
  },
  {
   "cell_type": "markdown",
   "id": "4bf2642c",
   "metadata": {},
   "source": [
    "# Quality of Different Models (Training - varied hyperparameters) <a id=\"qtra\"></a>"
   ]
  },
  {
   "cell_type": "markdown",
   "id": "204aa4c1",
   "metadata": {},
   "source": [
    "The sprint introduced 6 models - 2 trees, 2 forests and 2 algebric approximations. For quality check, chosen hyperparameters of all 6 will vary"
   ]
  },
  {
   "cell_type": "markdown",
   "id": "5d55b67d",
   "metadata": {},
   "source": [
    "## DecisionTreeClassifier <a id=\"dtc\"></a>"
   ]
  },
  {
   "cell_type": "code",
   "execution_count": 9,
   "id": "77274f48",
   "metadata": {},
   "outputs": [
    {
     "data": {
      "text/html": [
       "<div>\n",
       "<style scoped>\n",
       "    .dataframe tbody tr th:only-of-type {\n",
       "        vertical-align: middle;\n",
       "    }\n",
       "\n",
       "    .dataframe tbody tr th {\n",
       "        vertical-align: top;\n",
       "    }\n",
       "\n",
       "    .dataframe thead th {\n",
       "        text-align: right;\n",
       "    }\n",
       "</style>\n",
       "<table border=\"1\" class=\"dataframe\">\n",
       "  <thead>\n",
       "    <tr style=\"text-align: right;\">\n",
       "      <th></th>\n",
       "      <th>criterion</th>\n",
       "      <th>depth</th>\n",
       "      <th>leaf</th>\n",
       "      <th>score</th>\n",
       "      <th>split</th>\n",
       "      <th>splitter</th>\n",
       "    </tr>\n",
       "  </thead>\n",
       "  <tbody>\n",
       "    <tr>\n",
       "      <td>3530</td>\n",
       "      <td>gini</td>\n",
       "      <td>9.0</td>\n",
       "      <td>3.0</td>\n",
       "      <td>0.804044</td>\n",
       "      <td>10.0</td>\n",
       "      <td>random</td>\n",
       "    </tr>\n",
       "    <tr>\n",
       "      <td>3570</td>\n",
       "      <td>gini</td>\n",
       "      <td>9.0</td>\n",
       "      <td>3.0</td>\n",
       "      <td>0.804044</td>\n",
       "      <td>11.0</td>\n",
       "      <td>random</td>\n",
       "    </tr>\n",
       "    <tr>\n",
       "      <td>3490</td>\n",
       "      <td>gini</td>\n",
       "      <td>9.0</td>\n",
       "      <td>3.0</td>\n",
       "      <td>0.802488</td>\n",
       "      <td>9.0</td>\n",
       "      <td>random</td>\n",
       "    </tr>\n",
       "    <tr>\n",
       "      <td>3491</td>\n",
       "      <td>entropy</td>\n",
       "      <td>9.0</td>\n",
       "      <td>3.0</td>\n",
       "      <td>0.799378</td>\n",
       "      <td>9.0</td>\n",
       "      <td>random</td>\n",
       "    </tr>\n",
       "    <tr>\n",
       "      <td>3450</td>\n",
       "      <td>gini</td>\n",
       "      <td>9.0</td>\n",
       "      <td>3.0</td>\n",
       "      <td>0.799378</td>\n",
       "      <td>8.0</td>\n",
       "      <td>random</td>\n",
       "    </tr>\n",
       "    <tr>\n",
       "      <td>3451</td>\n",
       "      <td>entropy</td>\n",
       "      <td>9.0</td>\n",
       "      <td>3.0</td>\n",
       "      <td>0.799378</td>\n",
       "      <td>8.0</td>\n",
       "      <td>random</td>\n",
       "    </tr>\n",
       "    <tr>\n",
       "      <td>3411</td>\n",
       "      <td>entropy</td>\n",
       "      <td>9.0</td>\n",
       "      <td>3.0</td>\n",
       "      <td>0.796267</td>\n",
       "      <td>7.0</td>\n",
       "      <td>random</td>\n",
       "    </tr>\n",
       "    <tr>\n",
       "      <td>3531</td>\n",
       "      <td>entropy</td>\n",
       "      <td>9.0</td>\n",
       "      <td>3.0</td>\n",
       "      <td>0.796267</td>\n",
       "      <td>10.0</td>\n",
       "      <td>random</td>\n",
       "    </tr>\n",
       "    <tr>\n",
       "      <td>3571</td>\n",
       "      <td>entropy</td>\n",
       "      <td>9.0</td>\n",
       "      <td>3.0</td>\n",
       "      <td>0.796267</td>\n",
       "      <td>11.0</td>\n",
       "      <td>random</td>\n",
       "    </tr>\n",
       "    <tr>\n",
       "      <td>3214</td>\n",
       "      <td>gini</td>\n",
       "      <td>9.0</td>\n",
       "      <td>4.0</td>\n",
       "      <td>0.794712</td>\n",
       "      <td>2.0</td>\n",
       "      <td>random</td>\n",
       "    </tr>\n",
       "  </tbody>\n",
       "</table>\n",
       "</div>"
      ],
      "text/plain": [
       "     criterion  depth  leaf     score  split splitter\n",
       "3530      gini    9.0   3.0  0.804044   10.0   random\n",
       "3570      gini    9.0   3.0  0.804044   11.0   random\n",
       "3490      gini    9.0   3.0  0.802488    9.0   random\n",
       "3491   entropy    9.0   3.0  0.799378    9.0   random\n",
       "3450      gini    9.0   3.0  0.799378    8.0   random\n",
       "3451   entropy    9.0   3.0  0.799378    8.0   random\n",
       "3411   entropy    9.0   3.0  0.796267    7.0   random\n",
       "3531   entropy    9.0   3.0  0.796267   10.0   random\n",
       "3571   entropy    9.0   3.0  0.796267   11.0   random\n",
       "3214      gini    9.0   4.0  0.794712    2.0   random"
      ]
     },
     "execution_count": 9,
     "metadata": {},
     "output_type": "execute_result"
    }
   ],
   "source": [
    "dct = pd.DataFrame()\n",
    "for depth in range(1, 11):\n",
    "    for split in range(2, 12):\n",
    "        for leaf in range(1, 11):\n",
    "            for splitter in ['best', 'random']:\n",
    "                for criterion in ['gini', 'entropy']:\n",
    "                    model = DecisionTreeClassifier(random_state=12345, max_depth=depth, min_samples_split=split,\\\n",
    "                                                   min_samples_leaf=leaf,splitter=splitter,criterion=criterion)\n",
    "                    model.fit(features_train, target_train)\n",
    "                    dct = dct.append({'depth': depth, 'split': split,'leaf': leaf, 'splitter': splitter, 'criterion': \\\n",
    "                                      criterion, 'score': model.score(features_valid,target_valid)}, ignore_index=True)\n",
    "\n",
    "dct.sort_values('score',ascending=False, inplace=True)\n",
    "dct.head(10)"
   ]
  },
  {
   "cell_type": "markdown",
   "id": "49d253ca",
   "metadata": {},
   "source": [
    "<div class=\"alert alert-warning\">\n",
    "<b>Reviewer's comment</b>\n",
    "\n",
    "In the future you might want to try out [GridSearchCV](http://scikit-learn.org/stable/modules/generated/sklearn.model_selection.GridSearchCV.html) and [RandomizedSearchCV](http://scikit-learn.org/stable/modules/generated/sklearn.model_selection.RandomizedSearchCV.html): they provide an easier way to explore grids of hyperparameters for your models. I'm not urging you to rewrite the project using these two, just pointing out some useful tools :)\n",
    "\n",
    "</div>"
   ]
  },
  {
   "cell_type": "markdown",
   "id": "be94d854",
   "metadata": {},
   "source": [
    "<div class=\"alert alert-info\">\n",
    "  Thanks:)\n",
    "</div>"
   ]
  },
  {
   "cell_type": "markdown",
   "id": "75465147",
   "metadata": {},
   "source": [
    "2 combinations top the chart - \n",
    "\n",
    "- `criterion` = 'gini'\n",
    "- `max_depth` = 9\n",
    "- `min_samples_leaf` = 3\n",
    "- `min_samples_split` = 10/11\n",
    "- `splitter` = 'random'"
   ]
  },
  {
   "cell_type": "markdown",
   "id": "8bf6751c",
   "metadata": {},
   "source": [
    "## RandomForestClassifier <a id=\"rfc\"></a>"
   ]
  },
  {
   "cell_type": "code",
   "execution_count": 10,
   "id": "ade4d7c0",
   "metadata": {},
   "outputs": [
    {
     "data": {
      "text/html": [
       "<div>\n",
       "<style scoped>\n",
       "    .dataframe tbody tr th:only-of-type {\n",
       "        vertical-align: middle;\n",
       "    }\n",
       "\n",
       "    .dataframe tbody tr th {\n",
       "        vertical-align: top;\n",
       "    }\n",
       "\n",
       "    .dataframe thead th {\n",
       "        text-align: right;\n",
       "    }\n",
       "</style>\n",
       "<table border=\"1\" class=\"dataframe\">\n",
       "  <thead>\n",
       "    <tr style=\"text-align: right;\">\n",
       "      <th></th>\n",
       "      <th>criterion</th>\n",
       "      <th>depth</th>\n",
       "      <th>estimators</th>\n",
       "      <th>leaf</th>\n",
       "      <th>score</th>\n",
       "      <th>split</th>\n",
       "    </tr>\n",
       "  </thead>\n",
       "  <tbody>\n",
       "    <tr>\n",
       "      <td>68</td>\n",
       "      <td>gini</td>\n",
       "      <td>6.0</td>\n",
       "      <td>8.0</td>\n",
       "      <td>4.0</td>\n",
       "      <td>0.810264</td>\n",
       "      <td>9.0</td>\n",
       "    </tr>\n",
       "    <tr>\n",
       "      <td>104</td>\n",
       "      <td>gini</td>\n",
       "      <td>6.0</td>\n",
       "      <td>8.0</td>\n",
       "      <td>4.0</td>\n",
       "      <td>0.808709</td>\n",
       "      <td>10.0</td>\n",
       "    </tr>\n",
       "    <tr>\n",
       "      <td>48</td>\n",
       "      <td>gini</td>\n",
       "      <td>6.0</td>\n",
       "      <td>4.0</td>\n",
       "      <td>3.0</td>\n",
       "      <td>0.805599</td>\n",
       "      <td>9.0</td>\n",
       "    </tr>\n",
       "    <tr>\n",
       "      <td>70</td>\n",
       "      <td>gini</td>\n",
       "      <td>6.0</td>\n",
       "      <td>9.0</td>\n",
       "      <td>4.0</td>\n",
       "      <td>0.805599</td>\n",
       "      <td>9.0</td>\n",
       "    </tr>\n",
       "    <tr>\n",
       "      <td>587</td>\n",
       "      <td>entropy</td>\n",
       "      <td>10.0</td>\n",
       "      <td>9.0</td>\n",
       "      <td>2.0</td>\n",
       "      <td>0.804044</td>\n",
       "      <td>8.0</td>\n",
       "    </tr>\n",
       "    <tr>\n",
       "      <td>302</td>\n",
       "      <td>gini</td>\n",
       "      <td>8.0</td>\n",
       "      <td>5.0</td>\n",
       "      <td>3.0</td>\n",
       "      <td>0.804044</td>\n",
       "      <td>8.0</td>\n",
       "    </tr>\n",
       "    <tr>\n",
       "      <td>36</td>\n",
       "      <td>gini</td>\n",
       "      <td>6.0</td>\n",
       "      <td>4.0</td>\n",
       "      <td>2.0</td>\n",
       "      <td>0.804044</td>\n",
       "      <td>9.0</td>\n",
       "    </tr>\n",
       "    <tr>\n",
       "      <td>298</td>\n",
       "      <td>gini</td>\n",
       "      <td>8.0</td>\n",
       "      <td>9.0</td>\n",
       "      <td>2.0</td>\n",
       "      <td>0.804044</td>\n",
       "      <td>8.0</td>\n",
       "    </tr>\n",
       "    <tr>\n",
       "      <td>58</td>\n",
       "      <td>gini</td>\n",
       "      <td>6.0</td>\n",
       "      <td>9.0</td>\n",
       "      <td>3.0</td>\n",
       "      <td>0.802488</td>\n",
       "      <td>9.0</td>\n",
       "    </tr>\n",
       "    <tr>\n",
       "      <td>138</td>\n",
       "      <td>gini</td>\n",
       "      <td>6.0</td>\n",
       "      <td>7.0</td>\n",
       "      <td>4.0</td>\n",
       "      <td>0.802488</td>\n",
       "      <td>11.0</td>\n",
       "    </tr>\n",
       "  </tbody>\n",
       "</table>\n",
       "</div>"
      ],
      "text/plain": [
       "    criterion  depth  estimators  leaf     score  split\n",
       "68       gini    6.0         8.0   4.0  0.810264    9.0\n",
       "104      gini    6.0         8.0   4.0  0.808709   10.0\n",
       "48       gini    6.0         4.0   3.0  0.805599    9.0\n",
       "70       gini    6.0         9.0   4.0  0.805599    9.0\n",
       "587   entropy   10.0         9.0   2.0  0.804044    8.0\n",
       "302      gini    8.0         5.0   3.0  0.804044    8.0\n",
       "36       gini    6.0         4.0   2.0  0.804044    9.0\n",
       "298      gini    8.0         9.0   2.0  0.804044    8.0\n",
       "58       gini    6.0         9.0   3.0  0.802488    9.0\n",
       "138      gini    6.0         7.0   4.0  0.802488   11.0"
      ]
     },
     "execution_count": 10,
     "metadata": {},
     "output_type": "execute_result"
    }
   ],
   "source": [
    "dct = pd.DataFrame()\n",
    "for depth in range(6, 13):\n",
    "    for split in range(8, 12):\n",
    "        for leaf in range(2, 5):\n",
    "            for estimators in range(4, 10):\n",
    "                for criterion in ['gini', 'entropy']:\n",
    "                    model = RandomForestClassifier(random_state=12345, max_depth=depth, min_samples_split=split,\\\n",
    "                                                   min_samples_leaf=leaf, criterion=criterion, n_estimators=estimators)\n",
    "                    model.fit(features_train, target_train)\n",
    "                    dct = dct.append({'depth': depth, 'split': split,'leaf': leaf, 'estimators': estimators, 'criterion': \\\n",
    "                                      criterion, 'score': model.score(features_valid,target_valid)}, ignore_index=True)\n",
    "\n",
    "dct.sort_values('score',ascending=False, inplace=True)\n",
    "dct.head(10)"
   ]
  },
  {
   "cell_type": "markdown",
   "id": "27afc1cc",
   "metadata": {},
   "source": [
    "Best result so far. `min_samples_split` and `min_samples_leaf` changed a bit relative to the preceding DecisionTreeClassifier. `min_samples_split` decreased by 1 to a value of 9, while `min_samples_leaf` increased by 1 to a value of 4. So, the forest allows smaller groups to originate from a node, while restricting this by allowing only groups that result in more cases (4 instead of 3 as in the single tree case) \"solved\" by the algorithm. Or smth like that...\n",
    "\n",
    "- `criterion` = 'gini'\n",
    "- `max_depth` = 6\n",
    "- `n_estimators` = 8\n",
    "- `min_samples_leaf` = 4\n",
    "- `min_samples_split` = 9"
   ]
  },
  {
   "cell_type": "markdown",
   "id": "0167ccde",
   "metadata": {},
   "source": [
    "## LogisticRegression <a id=\"logr\"></a>"
   ]
  },
  {
   "cell_type": "markdown",
   "id": "8fbbb173",
   "metadata": {},
   "source": [
    "LogisticRegression has high speed, with medium accuracy, so varying parameters can be done thoroughly without having to risk overloading the kernel."
   ]
  },
  {
   "cell_type": "code",
   "execution_count": 11,
   "id": "6f11bd91",
   "metadata": {},
   "outputs": [
    {
     "name": "stdout",
     "output_type": "stream",
     "text": [
      "[LibLinear][LibLinear][LibLinear][LibLinear][LibLinear][LibLinear][LibLinear][LibLinear][LibLinear][LibLinear][LibLinear][LibLinear][LibLinear][LibLinear][LibLinear][LibLinear][LibLinear][LibLinear][LibLinear][LibLinear][LibLinear][LibLinear][LibLinear][LibLinear][LibLinear][LibLinear][LibLinear][LibLinear][LibLinear][LibLinear][LibLinear][LibLinear][LibLinear][LibLinear][LibLinear][LibLinear][LibLinear][LibLinear][LibLinear][LibLinear][LibLinear][LibLinear][LibLinear][LibLinear][LibLinear][LibLinear][LibLinear][LibLinear]"
     ]
    },
    {
     "data": {
      "text/html": [
       "<div>\n",
       "<style scoped>\n",
       "    .dataframe tbody tr th:only-of-type {\n",
       "        vertical-align: middle;\n",
       "    }\n",
       "\n",
       "    .dataframe tbody tr th {\n",
       "        vertical-align: top;\n",
       "    }\n",
       "\n",
       "    .dataframe thead th {\n",
       "        text-align: right;\n",
       "    }\n",
       "</style>\n",
       "<table border=\"1\" class=\"dataframe\">\n",
       "  <thead>\n",
       "    <tr style=\"text-align: right;\">\n",
       "      <th></th>\n",
       "      <th>fit_intercept</th>\n",
       "      <th>max_iter</th>\n",
       "      <th>penalty</th>\n",
       "      <th>score</th>\n",
       "      <th>verbose</th>\n",
       "    </tr>\n",
       "  </thead>\n",
       "  <tbody>\n",
       "    <tr>\n",
       "      <td>49</td>\n",
       "      <td>1.0</td>\n",
       "      <td>200.0</td>\n",
       "      <td>l2</td>\n",
       "      <td>0.758942</td>\n",
       "      <td>8.0</td>\n",
       "    </tr>\n",
       "    <tr>\n",
       "      <td>45</td>\n",
       "      <td>1.0</td>\n",
       "      <td>200.0</td>\n",
       "      <td>l2</td>\n",
       "      <td>0.758942</td>\n",
       "      <td>0.0</td>\n",
       "    </tr>\n",
       "    <tr>\n",
       "      <td>25</td>\n",
       "      <td>1.0</td>\n",
       "      <td>150.0</td>\n",
       "      <td>l2</td>\n",
       "      <td>0.758942</td>\n",
       "      <td>0.0</td>\n",
       "    </tr>\n",
       "    <tr>\n",
       "      <td>26</td>\n",
       "      <td>1.0</td>\n",
       "      <td>150.0</td>\n",
       "      <td>l2</td>\n",
       "      <td>0.758942</td>\n",
       "      <td>2.0</td>\n",
       "    </tr>\n",
       "    <tr>\n",
       "      <td>27</td>\n",
       "      <td>1.0</td>\n",
       "      <td>150.0</td>\n",
       "      <td>l2</td>\n",
       "      <td>0.758942</td>\n",
       "      <td>4.0</td>\n",
       "    </tr>\n",
       "    <tr>\n",
       "      <td>28</td>\n",
       "      <td>1.0</td>\n",
       "      <td>150.0</td>\n",
       "      <td>l2</td>\n",
       "      <td>0.758942</td>\n",
       "      <td>6.0</td>\n",
       "    </tr>\n",
       "    <tr>\n",
       "      <td>29</td>\n",
       "      <td>1.0</td>\n",
       "      <td>150.0</td>\n",
       "      <td>l2</td>\n",
       "      <td>0.758942</td>\n",
       "      <td>8.0</td>\n",
       "    </tr>\n",
       "    <tr>\n",
       "      <td>48</td>\n",
       "      <td>1.0</td>\n",
       "      <td>200.0</td>\n",
       "      <td>l2</td>\n",
       "      <td>0.758942</td>\n",
       "      <td>6.0</td>\n",
       "    </tr>\n",
       "    <tr>\n",
       "      <td>47</td>\n",
       "      <td>1.0</td>\n",
       "      <td>200.0</td>\n",
       "      <td>l2</td>\n",
       "      <td>0.758942</td>\n",
       "      <td>4.0</td>\n",
       "    </tr>\n",
       "    <tr>\n",
       "      <td>46</td>\n",
       "      <td>1.0</td>\n",
       "      <td>200.0</td>\n",
       "      <td>l2</td>\n",
       "      <td>0.758942</td>\n",
       "      <td>2.0</td>\n",
       "    </tr>\n",
       "    <tr>\n",
       "      <td>9</td>\n",
       "      <td>1.0</td>\n",
       "      <td>100.0</td>\n",
       "      <td>l2</td>\n",
       "      <td>0.758942</td>\n",
       "      <td>8.0</td>\n",
       "    </tr>\n",
       "    <tr>\n",
       "      <td>8</td>\n",
       "      <td>1.0</td>\n",
       "      <td>100.0</td>\n",
       "      <td>l2</td>\n",
       "      <td>0.758942</td>\n",
       "      <td>6.0</td>\n",
       "    </tr>\n",
       "    <tr>\n",
       "      <td>7</td>\n",
       "      <td>1.0</td>\n",
       "      <td>100.0</td>\n",
       "      <td>l2</td>\n",
       "      <td>0.758942</td>\n",
       "      <td>4.0</td>\n",
       "    </tr>\n",
       "    <tr>\n",
       "      <td>6</td>\n",
       "      <td>1.0</td>\n",
       "      <td>100.0</td>\n",
       "      <td>l2</td>\n",
       "      <td>0.758942</td>\n",
       "      <td>2.0</td>\n",
       "    </tr>\n",
       "    <tr>\n",
       "      <td>5</td>\n",
       "      <td>1.0</td>\n",
       "      <td>100.0</td>\n",
       "      <td>l2</td>\n",
       "      <td>0.758942</td>\n",
       "      <td>0.0</td>\n",
       "    </tr>\n",
       "    <tr>\n",
       "      <td>22</td>\n",
       "      <td>1.0</td>\n",
       "      <td>150.0</td>\n",
       "      <td>l1</td>\n",
       "      <td>0.757387</td>\n",
       "      <td>4.0</td>\n",
       "    </tr>\n",
       "    <tr>\n",
       "      <td>1</td>\n",
       "      <td>1.0</td>\n",
       "      <td>100.0</td>\n",
       "      <td>l1</td>\n",
       "      <td>0.757387</td>\n",
       "      <td>2.0</td>\n",
       "    </tr>\n",
       "    <tr>\n",
       "      <td>44</td>\n",
       "      <td>1.0</td>\n",
       "      <td>200.0</td>\n",
       "      <td>l1</td>\n",
       "      <td>0.757387</td>\n",
       "      <td>8.0</td>\n",
       "    </tr>\n",
       "    <tr>\n",
       "      <td>43</td>\n",
       "      <td>1.0</td>\n",
       "      <td>200.0</td>\n",
       "      <td>l1</td>\n",
       "      <td>0.757387</td>\n",
       "      <td>6.0</td>\n",
       "    </tr>\n",
       "    <tr>\n",
       "      <td>42</td>\n",
       "      <td>1.0</td>\n",
       "      <td>200.0</td>\n",
       "      <td>l1</td>\n",
       "      <td>0.757387</td>\n",
       "      <td>4.0</td>\n",
       "    </tr>\n",
       "    <tr>\n",
       "      <td>24</td>\n",
       "      <td>1.0</td>\n",
       "      <td>150.0</td>\n",
       "      <td>l1</td>\n",
       "      <td>0.757387</td>\n",
       "      <td>8.0</td>\n",
       "    </tr>\n",
       "    <tr>\n",
       "      <td>23</td>\n",
       "      <td>1.0</td>\n",
       "      <td>150.0</td>\n",
       "      <td>l1</td>\n",
       "      <td>0.757387</td>\n",
       "      <td>6.0</td>\n",
       "    </tr>\n",
       "    <tr>\n",
       "      <td>0</td>\n",
       "      <td>1.0</td>\n",
       "      <td>100.0</td>\n",
       "      <td>l1</td>\n",
       "      <td>0.757387</td>\n",
       "      <td>0.0</td>\n",
       "    </tr>\n",
       "    <tr>\n",
       "      <td>21</td>\n",
       "      <td>1.0</td>\n",
       "      <td>150.0</td>\n",
       "      <td>l1</td>\n",
       "      <td>0.757387</td>\n",
       "      <td>2.0</td>\n",
       "    </tr>\n",
       "    <tr>\n",
       "      <td>20</td>\n",
       "      <td>1.0</td>\n",
       "      <td>150.0</td>\n",
       "      <td>l1</td>\n",
       "      <td>0.757387</td>\n",
       "      <td>0.0</td>\n",
       "    </tr>\n",
       "    <tr>\n",
       "      <td>40</td>\n",
       "      <td>1.0</td>\n",
       "      <td>200.0</td>\n",
       "      <td>l1</td>\n",
       "      <td>0.757387</td>\n",
       "      <td>0.0</td>\n",
       "    </tr>\n",
       "    <tr>\n",
       "      <td>4</td>\n",
       "      <td>1.0</td>\n",
       "      <td>100.0</td>\n",
       "      <td>l1</td>\n",
       "      <td>0.757387</td>\n",
       "      <td>8.0</td>\n",
       "    </tr>\n",
       "    <tr>\n",
       "      <td>3</td>\n",
       "      <td>1.0</td>\n",
       "      <td>100.0</td>\n",
       "      <td>l1</td>\n",
       "      <td>0.757387</td>\n",
       "      <td>6.0</td>\n",
       "    </tr>\n",
       "    <tr>\n",
       "      <td>2</td>\n",
       "      <td>1.0</td>\n",
       "      <td>100.0</td>\n",
       "      <td>l1</td>\n",
       "      <td>0.757387</td>\n",
       "      <td>4.0</td>\n",
       "    </tr>\n",
       "    <tr>\n",
       "      <td>41</td>\n",
       "      <td>1.0</td>\n",
       "      <td>200.0</td>\n",
       "      <td>l1</td>\n",
       "      <td>0.757387</td>\n",
       "      <td>2.0</td>\n",
       "    </tr>\n",
       "  </tbody>\n",
       "</table>\n",
       "</div>"
      ],
      "text/plain": [
       "    fit_intercept  max_iter penalty     score  verbose\n",
       "49            1.0     200.0      l2  0.758942      8.0\n",
       "45            1.0     200.0      l2  0.758942      0.0\n",
       "25            1.0     150.0      l2  0.758942      0.0\n",
       "26            1.0     150.0      l2  0.758942      2.0\n",
       "27            1.0     150.0      l2  0.758942      4.0\n",
       "28            1.0     150.0      l2  0.758942      6.0\n",
       "29            1.0     150.0      l2  0.758942      8.0\n",
       "48            1.0     200.0      l2  0.758942      6.0\n",
       "47            1.0     200.0      l2  0.758942      4.0\n",
       "46            1.0     200.0      l2  0.758942      2.0\n",
       "9             1.0     100.0      l2  0.758942      8.0\n",
       "8             1.0     100.0      l2  0.758942      6.0\n",
       "7             1.0     100.0      l2  0.758942      4.0\n",
       "6             1.0     100.0      l2  0.758942      2.0\n",
       "5             1.0     100.0      l2  0.758942      0.0\n",
       "22            1.0     150.0      l1  0.757387      4.0\n",
       "1             1.0     100.0      l1  0.757387      2.0\n",
       "44            1.0     200.0      l1  0.757387      8.0\n",
       "43            1.0     200.0      l1  0.757387      6.0\n",
       "42            1.0     200.0      l1  0.757387      4.0\n",
       "24            1.0     150.0      l1  0.757387      8.0\n",
       "23            1.0     150.0      l1  0.757387      6.0\n",
       "0             1.0     100.0      l1  0.757387      0.0\n",
       "21            1.0     150.0      l1  0.757387      2.0\n",
       "20            1.0     150.0      l1  0.757387      0.0\n",
       "40            1.0     200.0      l1  0.757387      0.0\n",
       "4             1.0     100.0      l1  0.757387      8.0\n",
       "3             1.0     100.0      l1  0.757387      6.0\n",
       "2             1.0     100.0      l1  0.757387      4.0\n",
       "41            1.0     200.0      l1  0.757387      2.0"
      ]
     },
     "metadata": {},
     "output_type": "display_data"
    }
   ],
   "source": [
    "dct = pd.DataFrame()\n",
    "for max_iter in range(100,250,50):\n",
    "    for fit_intercept in [True, False]:\n",
    "        for penalty in ['l1', 'l2']:   # compatibility with solver='LibLinear'\n",
    "            for verbose in range(0,10,2):\n",
    "                model = LogisticRegression(random_state=12345, penalty=penalty, fit_intercept=fit_intercept,\\\n",
    "                                               solver='liblinear', max_iter=max_iter,verbose=verbose)\n",
    "                model.fit(features_train, target_train)\n",
    "                dct = dct.append({'max_iter': max_iter, 'penalty': penalty, 'fit_intercept': \\\n",
    "                                  fit_intercept,'verbose': verbose, 'score': model.score(features_valid,target_valid)}, ignore_index=True)\n",
    "\n",
    "dct.sort_values('score',ascending=False, inplace=True)\n",
    "\n",
    "display(dct[dct['score'] >= 0.757386])"
   ]
  },
  {
   "cell_type": "markdown",
   "id": "b61c5e29",
   "metadata": {},
   "source": [
    "Moderate result, yet above 75% accuracy. `fit_intercept` optimal value is True, and `max_iter` can be set to 200 instead of iterated by."
   ]
  },
  {
   "cell_type": "markdown",
   "id": "2b8e5217",
   "metadata": {},
   "source": [
    "<div style=\"font-size:20px; color:red;\"><b>[LibLinear] getting printed - is there an easy way to suppress it?</b></div>"
   ]
  },
  {
   "cell_type": "markdown",
   "id": "a6c7522d",
   "metadata": {},
   "source": [
    "### `verbose` is insignificant <a id=\"logrverbins\"></a>"
   ]
  },
  {
   "cell_type": "code",
   "execution_count": 12,
   "id": "c8fe4e5a",
   "metadata": {},
   "outputs": [
    {
     "name": "stdout",
     "output_type": "stream",
     "text": [
      "<class 'pandas.core.frame.DataFrame'>\n",
      "RangeIndex: 60 entries, 0 to 59\n",
      "Data columns (total 6 columns):\n",
      "index            60 non-null int64\n",
      "fit_intercept    60 non-null float64\n",
      "max_iter         60 non-null float64\n",
      "penalty          60 non-null object\n",
      "score            60 non-null float64\n",
      "verbose          60 non-null float64\n",
      "dtypes: float64(4), int64(1), object(1)\n",
      "memory usage: 2.9+ KB\n"
     ]
    },
    {
     "data": {
      "text/plain": [
       "6.0    6\n",
       "4.0    6\n",
       "2.0    6\n",
       "0.0    6\n",
       "8.0    6\n",
       "Name: verbose, dtype: int64"
      ]
     },
     "execution_count": 12,
     "metadata": {},
     "output_type": "execute_result"
    }
   ],
   "source": [
    "fgg = dct.head(1)\n",
    "top_score = fgg.score\n",
    "top_score\n",
    "dct = dct.reset_index()\n",
    "dct1 = dct[dct['score'] >= 0.757386]\n",
    "dct.info()\n",
    "dct1.verbose.value_counts()"
   ]
  },
  {
   "cell_type": "markdown",
   "id": "4384b0ac",
   "metadata": {},
   "source": [
    "`verbose` has no apparent effect, so it can be disregarded"
   ]
  },
  {
   "cell_type": "markdown",
   "id": "ea82e2bb",
   "metadata": {},
   "source": [
    "<div class=\"alert alert-warning\">\n",
    "<b>Reviewer's comment</b>\n",
    "\n",
    "`verbose` just regulates how much info is printed out during training, it's not a hyperparameter of the model. Incidentally, it is the parameter you'd want to set to 0 to suppress printing `[LibLinear]`\n",
    "\n",
    "</div>"
   ]
  },
  {
   "cell_type": "markdown",
   "id": "176110cd",
   "metadata": {},
   "source": [
    "<div class=\"alert alert-info\">\n",
    "Cool\n",
    "</div>"
   ]
  },
  {
   "cell_type": "markdown",
   "id": "2328d91d",
   "metadata": {},
   "source": [
    "### `tol` can be disregarded <a id=\"logrtolins\"></a>"
   ]
  },
  {
   "cell_type": "code",
   "execution_count": 13,
   "id": "f04a4cdb",
   "metadata": {},
   "outputs": [
    {
     "data": {
      "text/html": [
       "<div>\n",
       "<style scoped>\n",
       "    .dataframe tbody tr th:only-of-type {\n",
       "        vertical-align: middle;\n",
       "    }\n",
       "\n",
       "    .dataframe tbody tr th {\n",
       "        vertical-align: top;\n",
       "    }\n",
       "\n",
       "    .dataframe thead th {\n",
       "        text-align: right;\n",
       "    }\n",
       "</style>\n",
       "<table border=\"1\" class=\"dataframe\">\n",
       "  <thead>\n",
       "    <tr style=\"text-align: right;\">\n",
       "      <th></th>\n",
       "      <th>penalty</th>\n",
       "      <th>score</th>\n",
       "      <th>tol</th>\n",
       "    </tr>\n",
       "  </thead>\n",
       "  <tbody>\n",
       "    <tr>\n",
       "      <td>7</td>\n",
       "      <td>l2</td>\n",
       "      <td>0.758942</td>\n",
       "      <td>0.0001</td>\n",
       "    </tr>\n",
       "    <tr>\n",
       "      <td>0</td>\n",
       "      <td>l1</td>\n",
       "      <td>0.757387</td>\n",
       "      <td>0.0001</td>\n",
       "    </tr>\n",
       "    <tr>\n",
       "      <td>1</td>\n",
       "      <td>l1</td>\n",
       "      <td>0.757387</td>\n",
       "      <td>0.0010</td>\n",
       "    </tr>\n",
       "    <tr>\n",
       "      <td>2</td>\n",
       "      <td>l1</td>\n",
       "      <td>0.757387</td>\n",
       "      <td>0.0100</td>\n",
       "    </tr>\n",
       "    <tr>\n",
       "      <td>3</td>\n",
       "      <td>l1</td>\n",
       "      <td>0.755832</td>\n",
       "      <td>0.1000</td>\n",
       "    </tr>\n",
       "  </tbody>\n",
       "</table>\n",
       "</div>"
      ],
      "text/plain": [
       "  penalty     score     tol\n",
       "7      l2  0.758942  0.0001\n",
       "0      l1  0.757387  0.0001\n",
       "1      l1  0.757387  0.0010\n",
       "2      l1  0.757387  0.0100\n",
       "3      l1  0.755832  0.1000"
      ]
     },
     "execution_count": 13,
     "metadata": {},
     "output_type": "execute_result"
    }
   ],
   "source": [
    "dct = pd.DataFrame()\n",
    "\n",
    "for penalty in ['l1', 'l2']:\n",
    "    for tol in [0.0001,0.001,0.01,0.1,1,10,100]:\n",
    "        model = LogisticRegression(random_state=12345, penalty=penalty, fit_intercept=True,\\\n",
    "                                       solver='liblinear', max_iter=200, tol=tol)\n",
    "        model.fit(features_train, target_train)\n",
    "        dct = dct.append({'penalty': penalty, 'tol': tol, \\\n",
    "                          'score': model.score(features_valid,target_valid)}, ignore_index=True)\n",
    "\n",
    "dct.sort_values('score',ascending=False, inplace=True)\n",
    "dct.head()"
   ]
  },
  {
   "cell_type": "code",
   "execution_count": 14,
   "id": "75e41b61",
   "metadata": {},
   "outputs": [
    {
     "data": {
      "text/plain": [
       "0.0001    2\n",
       "0.0100    1\n",
       "0.0010    1\n",
       "Name: tol, dtype: int64"
      ]
     },
     "execution_count": 14,
     "metadata": {},
     "output_type": "execute_result"
    }
   ],
   "source": [
    "fgg = dct.head(1)\n",
    "top_score = fgg.score\n",
    "dct1 = dct[dct['score'] >= 0.757386]\n",
    "dct1.tol.value_counts()"
   ]
  },
  {
   "cell_type": "markdown",
   "id": "8d9cf9e0",
   "metadata": {},
   "source": [
    "`tol` has a slight preferation to the value 0.0001 - its default value. So `tol` doesn't need to be specified."
   ]
  },
  {
   "cell_type": "markdown",
   "id": "9a0895c4",
   "metadata": {},
   "source": [
    "### `C` has 2 possibly preferred values - 0.1 and 1 <a id=\"logrcs\"></a>"
   ]
  },
  {
   "cell_type": "code",
   "execution_count": 15,
   "id": "81262d47",
   "metadata": {},
   "outputs": [
    {
     "data": {
      "text/html": [
       "<div>\n",
       "<style scoped>\n",
       "    .dataframe tbody tr th:only-of-type {\n",
       "        vertical-align: middle;\n",
       "    }\n",
       "\n",
       "    .dataframe tbody tr th {\n",
       "        vertical-align: top;\n",
       "    }\n",
       "\n",
       "    .dataframe thead th {\n",
       "        text-align: right;\n",
       "    }\n",
       "</style>\n",
       "<table border=\"1\" class=\"dataframe\">\n",
       "  <thead>\n",
       "    <tr style=\"text-align: right;\">\n",
       "      <th></th>\n",
       "      <th>c</th>\n",
       "      <th>penalty</th>\n",
       "      <th>score</th>\n",
       "    </tr>\n",
       "  </thead>\n",
       "  <tbody>\n",
       "    <tr>\n",
       "      <td>10</td>\n",
       "      <td>1.00</td>\n",
       "      <td>l2</td>\n",
       "      <td>0.758942</td>\n",
       "    </tr>\n",
       "    <tr>\n",
       "      <td>2</td>\n",
       "      <td>0.10</td>\n",
       "      <td>l1</td>\n",
       "      <td>0.757387</td>\n",
       "    </tr>\n",
       "    <tr>\n",
       "      <td>3</td>\n",
       "      <td>1.00</td>\n",
       "      <td>l1</td>\n",
       "      <td>0.757387</td>\n",
       "    </tr>\n",
       "    <tr>\n",
       "      <td>4</td>\n",
       "      <td>10.00</td>\n",
       "      <td>l1</td>\n",
       "      <td>0.755832</td>\n",
       "    </tr>\n",
       "    <tr>\n",
       "      <td>5</td>\n",
       "      <td>100.00</td>\n",
       "      <td>l1</td>\n",
       "      <td>0.755832</td>\n",
       "    </tr>\n",
       "    <tr>\n",
       "      <td>6</td>\n",
       "      <td>1000.00</td>\n",
       "      <td>l1</td>\n",
       "      <td>0.755832</td>\n",
       "    </tr>\n",
       "    <tr>\n",
       "      <td>12</td>\n",
       "      <td>100.00</td>\n",
       "      <td>l2</td>\n",
       "      <td>0.755832</td>\n",
       "    </tr>\n",
       "    <tr>\n",
       "      <td>9</td>\n",
       "      <td>0.10</td>\n",
       "      <td>l2</td>\n",
       "      <td>0.748056</td>\n",
       "    </tr>\n",
       "    <tr>\n",
       "      <td>8</td>\n",
       "      <td>0.01</td>\n",
       "      <td>l2</td>\n",
       "      <td>0.724728</td>\n",
       "    </tr>\n",
       "    <tr>\n",
       "      <td>1</td>\n",
       "      <td>0.01</td>\n",
       "      <td>l1</td>\n",
       "      <td>0.710731</td>\n",
       "    </tr>\n",
       "  </tbody>\n",
       "</table>\n",
       "</div>"
      ],
      "text/plain": [
       "          c penalty     score\n",
       "10     1.00      l2  0.758942\n",
       "2      0.10      l1  0.757387\n",
       "3      1.00      l1  0.757387\n",
       "4     10.00      l1  0.755832\n",
       "5    100.00      l1  0.755832\n",
       "6   1000.00      l1  0.755832\n",
       "12   100.00      l2  0.755832\n",
       "9      0.10      l2  0.748056\n",
       "8      0.01      l2  0.724728\n",
       "1      0.01      l1  0.710731"
      ]
     },
     "execution_count": 15,
     "metadata": {},
     "output_type": "execute_result"
    }
   ],
   "source": [
    "dct = pd.DataFrame()\n",
    "for penalty in ['l1', 'l2']:\n",
    "    for c in [0.001,0.01,0.1,1,10,100,1000]:\n",
    "        model = LogisticRegression(random_state=12345, penalty=penalty, fit_intercept=True,\\\n",
    "                                       solver='liblinear', max_iter=200, C=c)\n",
    "        model.fit(features_train, target_train)\n",
    "        dct = dct.append({'penalty': penalty, 'c': c, \\\n",
    "                          'score': model.score(features_valid,target_valid)}, ignore_index=True)\n",
    "\n",
    "dct.sort_values('score',ascending=False, inplace=True)\n",
    "dct.head(10)"
   ]
  },
  {
   "cell_type": "code",
   "execution_count": 16,
   "id": "99cd8a96",
   "metadata": {},
   "outputs": [
    {
     "data": {
      "text/plain": [
       "1.0    2\n",
       "0.1    1\n",
       "Name: c, dtype: int64"
      ]
     },
     "execution_count": 16,
     "metadata": {},
     "output_type": "execute_result"
    }
   ],
   "source": [
    "fgg = dct.head(1)\n",
    "top_score = fgg.score\n",
    "dct1 = dct[dct['score'] >= 0.757386]\n",
    "dct1.c.value_counts()"
   ]
  },
  {
   "cell_type": "markdown",
   "id": "7aeafa67",
   "metadata": {},
   "source": [
    "There are clearly only 2 `C` values on top; From now on **`C` value will be limited to this pair surrounded by a safety margin, in the range between 0.01 to 10**"
   ]
  },
  {
   "cell_type": "markdown",
   "id": "dc53cd40",
   "metadata": {},
   "source": [
    "### `intercept_scaling` has an optimal value <a id=\"logriss\"></a>"
   ]
  },
  {
   "cell_type": "code",
   "execution_count": 17,
   "id": "9b5bf313",
   "metadata": {},
   "outputs": [
    {
     "data": {
      "text/html": [
       "<div>\n",
       "<style scoped>\n",
       "    .dataframe tbody tr th:only-of-type {\n",
       "        vertical-align: middle;\n",
       "    }\n",
       "\n",
       "    .dataframe tbody tr th {\n",
       "        vertical-align: top;\n",
       "    }\n",
       "\n",
       "    .dataframe thead th {\n",
       "        text-align: right;\n",
       "    }\n",
       "</style>\n",
       "<table border=\"1\" class=\"dataframe\">\n",
       "  <thead>\n",
       "    <tr style=\"text-align: right;\">\n",
       "      <th></th>\n",
       "      <th>c</th>\n",
       "      <th>intercept_scaling</th>\n",
       "      <th>penalty</th>\n",
       "      <th>score</th>\n",
       "    </tr>\n",
       "  </thead>\n",
       "  <tbody>\n",
       "    <tr>\n",
       "      <td>59</td>\n",
       "      <td>1.000</td>\n",
       "      <td>1.00</td>\n",
       "      <td>l2</td>\n",
       "      <td>0.758942</td>\n",
       "    </tr>\n",
       "    <tr>\n",
       "      <td>12</td>\n",
       "      <td>0.010</td>\n",
       "      <td>100.00</td>\n",
       "      <td>l1</td>\n",
       "      <td>0.758942</td>\n",
       "    </tr>\n",
       "    <tr>\n",
       "      <td>23</td>\n",
       "      <td>1.000</td>\n",
       "      <td>0.10</td>\n",
       "      <td>l1</td>\n",
       "      <td>0.757387</td>\n",
       "    </tr>\n",
       "    <tr>\n",
       "      <td>11</td>\n",
       "      <td>0.010</td>\n",
       "      <td>10.00</td>\n",
       "      <td>l1</td>\n",
       "      <td>0.757387</td>\n",
       "    </tr>\n",
       "    <tr>\n",
       "      <td>30</td>\n",
       "      <td>10.000</td>\n",
       "      <td>0.10</td>\n",
       "      <td>l1</td>\n",
       "      <td>0.757387</td>\n",
       "    </tr>\n",
       "    <tr>\n",
       "      <td>29</td>\n",
       "      <td>10.000</td>\n",
       "      <td>0.01</td>\n",
       "      <td>l1</td>\n",
       "      <td>0.757387</td>\n",
       "    </tr>\n",
       "    <tr>\n",
       "      <td>24</td>\n",
       "      <td>1.000</td>\n",
       "      <td>1.00</td>\n",
       "      <td>l1</td>\n",
       "      <td>0.757387</td>\n",
       "    </tr>\n",
       "    <tr>\n",
       "      <td>18</td>\n",
       "      <td>0.100</td>\n",
       "      <td>10.00</td>\n",
       "      <td>l1</td>\n",
       "      <td>0.757387</td>\n",
       "    </tr>\n",
       "    <tr>\n",
       "      <td>17</td>\n",
       "      <td>0.100</td>\n",
       "      <td>1.00</td>\n",
       "      <td>l1</td>\n",
       "      <td>0.757387</td>\n",
       "    </tr>\n",
       "    <tr>\n",
       "      <td>13</td>\n",
       "      <td>0.010</td>\n",
       "      <td>1000.00</td>\n",
       "      <td>l1</td>\n",
       "      <td>0.757387</td>\n",
       "    </tr>\n",
       "    <tr>\n",
       "      <td>46</td>\n",
       "      <td>0.010</td>\n",
       "      <td>10.00</td>\n",
       "      <td>l2</td>\n",
       "      <td>0.757387</td>\n",
       "    </tr>\n",
       "    <tr>\n",
       "      <td>61</td>\n",
       "      <td>1.000</td>\n",
       "      <td>100.00</td>\n",
       "      <td>l2</td>\n",
       "      <td>0.755832</td>\n",
       "    </tr>\n",
       "    <tr>\n",
       "      <td>27</td>\n",
       "      <td>1.000</td>\n",
       "      <td>1000.00</td>\n",
       "      <td>l1</td>\n",
       "      <td>0.755832</td>\n",
       "    </tr>\n",
       "    <tr>\n",
       "      <td>48</td>\n",
       "      <td>0.010</td>\n",
       "      <td>1000.00</td>\n",
       "      <td>l2</td>\n",
       "      <td>0.755832</td>\n",
       "    </tr>\n",
       "    <tr>\n",
       "      <td>41</td>\n",
       "      <td>0.001</td>\n",
       "      <td>1000.00</td>\n",
       "      <td>l2</td>\n",
       "      <td>0.755832</td>\n",
       "    </tr>\n",
       "  </tbody>\n",
       "</table>\n",
       "</div>"
      ],
      "text/plain": [
       "         c  intercept_scaling penalty     score\n",
       "59   1.000               1.00      l2  0.758942\n",
       "12   0.010             100.00      l1  0.758942\n",
       "23   1.000               0.10      l1  0.757387\n",
       "11   0.010              10.00      l1  0.757387\n",
       "30  10.000               0.10      l1  0.757387\n",
       "29  10.000               0.01      l1  0.757387\n",
       "24   1.000               1.00      l1  0.757387\n",
       "18   0.100              10.00      l1  0.757387\n",
       "17   0.100               1.00      l1  0.757387\n",
       "13   0.010            1000.00      l1  0.757387\n",
       "46   0.010              10.00      l2  0.757387\n",
       "61   1.000             100.00      l2  0.755832\n",
       "27   1.000            1000.00      l1  0.755832\n",
       "48   0.010            1000.00      l2  0.755832\n",
       "41   0.001            1000.00      l2  0.755832"
      ]
     },
     "execution_count": 17,
     "metadata": {},
     "output_type": "execute_result"
    }
   ],
   "source": [
    "dct = pd.DataFrame()\n",
    "\n",
    "for penalty in ['l1', 'l2']:\n",
    "    for c in [0.001,0.01,0.1,1,10]:\n",
    "        for intercept_scaling in [0.001,0.01,0.1,1,10,100,1000]:\n",
    "            model = LogisticRegression(random_state=12345, penalty=penalty, fit_intercept=True,\\\n",
    "                                           solver='liblinear', max_iter=200, C=c, intercept_scaling=intercept_scaling)\n",
    "            model.fit(features_train, target_train)\n",
    "            dct = dct.append({'penalty': penalty, 'c': c, 'intercept_scaling': intercept_scaling,\\\n",
    "                              'score': model.score(features_valid,target_valid)}, ignore_index=True)\n",
    "\n",
    "dct.sort_values('score',ascending=False, inplace=True)\n",
    "dct.head(15)"
   ]
  },
  {
   "cell_type": "code",
   "execution_count": 18,
   "id": "ffea4db2",
   "metadata": {},
   "outputs": [
    {
     "data": {
      "text/plain": [
       "10.00      3\n",
       "1.00       3\n",
       "0.10       2\n",
       "0.01       1\n",
       "1000.00    1\n",
       "100.00     1\n",
       "Name: intercept_scaling, dtype: int64"
      ]
     },
     "execution_count": 18,
     "metadata": {},
     "output_type": "execute_result"
    }
   ],
   "source": [
    "fgg = dct.head(1)\n",
    "top_score = fgg.score\n",
    "dct1 = dct[dct['score'] >= 0.757386]\n",
    "dct1.intercept_scaling.value_counts()"
   ]
  },
  {
   "cell_type": "markdown",
   "id": "5f0ad758",
   "metadata": {},
   "source": [
    "100 is the winner, with a tiny improvement of the earlier score (0.757 to 0.759). However, when including the runners-up scores no other instances of that value are present. In addition, that top score feature a `C` value of 0.01, not one of the 2 \"optimal\" values found above (with safety margin removed). **values range from 0.1 to 100 will be regarded as possible `intercept_scaling` values** on future iterations. 1000 and 0.01 are also the least frequent at chart's top while also being numerically most extreme. They can be dropped off from future iterations."
   ]
  },
  {
   "cell_type": "markdown",
   "id": "a341ffc6",
   "metadata": {},
   "source": [
    "### `class_weight` can be disregarded <a id=\"logrcwins\"></a>"
   ]
  },
  {
   "cell_type": "code",
   "execution_count": 19,
   "id": "7e7e83a2",
   "metadata": {},
   "outputs": [],
   "source": [
    "w = [{0:1000,1:100},{0:1000,1:10}, {0:1000,1:1.0}, \n",
    "     {0:500,1:1.0}, {0:400,1:1.0}, {0:300,1:1.0}, {0:200,1:1.0}, \n",
    "     {0:150,1:1.0}, {0:100,1:1.0}, {0:99,1:1.0}, {0:10,1:1.0}, \n",
    "     {0:0.01,1:1.0}, {0:0.01,1:10}, {0:0.01,1:100}, \n",
    "     {0:0.001,1:1.0}, {0:0.005,1:1.0}, {0:1.0,1:1.0}, \n",
    "     {0:1.0,1:0.1}, {0:10,1:0.1}, {0:100,1:0.1}, \n",
    "     {0:10,1:0.01}, {0:1.0,1:0.01}, {0:1.0,1:0.001}, {0:1.0,1:0.005}, \n",
    "     {0:1.0,1:10}, {0:1.0,1:99}, {0:1.0,1:100}, {0:1.0,1:150}, \n",
    "     {0:1.0,1:200}, {0:1.0,1:300},{0:1.0,1:400},{0:1.0,1:500}, \n",
    "     {0:1.0,1:1000}, {0:10,1:1000},{0:100,1:1000},'balanced']"
   ]
  },
  {
   "cell_type": "code",
   "execution_count": 20,
   "id": "2fb68c84",
   "metadata": {},
   "outputs": [
    {
     "data": {
      "text/html": [
       "<div>\n",
       "<style scoped>\n",
       "    .dataframe tbody tr th:only-of-type {\n",
       "        vertical-align: middle;\n",
       "    }\n",
       "\n",
       "    .dataframe tbody tr th {\n",
       "        vertical-align: top;\n",
       "    }\n",
       "\n",
       "    .dataframe thead th {\n",
       "        text-align: right;\n",
       "    }\n",
       "</style>\n",
       "<table border=\"1\" class=\"dataframe\">\n",
       "  <thead>\n",
       "    <tr style=\"text-align: right;\">\n",
       "      <th></th>\n",
       "      <th>c</th>\n",
       "      <th>class_weight</th>\n",
       "      <th>intercept_scaling</th>\n",
       "      <th>penalty</th>\n",
       "      <th>score</th>\n",
       "    </tr>\n",
       "  </thead>\n",
       "  <tbody>\n",
       "    <tr>\n",
       "      <td>124</td>\n",
       "      <td>0.01</td>\n",
       "      <td>{0: 1.0, 1: 1.0}</td>\n",
       "      <td>100.0</td>\n",
       "      <td>l1</td>\n",
       "      <td>0.758942</td>\n",
       "    </tr>\n",
       "    <tr>\n",
       "      <td>916</td>\n",
       "      <td>1.00</td>\n",
       "      <td>{0: 1.0, 1: 1.0}</td>\n",
       "      <td>1.0</td>\n",
       "      <td>l2</td>\n",
       "      <td>0.758942</td>\n",
       "    </tr>\n",
       "    <tr>\n",
       "      <td>448</td>\n",
       "      <td>10.00</td>\n",
       "      <td>{0: 1.0, 1: 1.0}</td>\n",
       "      <td>0.1</td>\n",
       "      <td>l1</td>\n",
       "      <td>0.757387</td>\n",
       "    </tr>\n",
       "    <tr>\n",
       "      <td>88</td>\n",
       "      <td>0.01</td>\n",
       "      <td>{0: 1.0, 1: 1.0}</td>\n",
       "      <td>10.0</td>\n",
       "      <td>l1</td>\n",
       "      <td>0.757387</td>\n",
       "    </tr>\n",
       "    <tr>\n",
       "      <td>304</td>\n",
       "      <td>1.00</td>\n",
       "      <td>{0: 1.0, 1: 1.0}</td>\n",
       "      <td>0.1</td>\n",
       "      <td>l1</td>\n",
       "      <td>0.757387</td>\n",
       "    </tr>\n",
       "    <tr>\n",
       "      <td>196</td>\n",
       "      <td>0.10</td>\n",
       "      <td>{0: 1.0, 1: 1.0}</td>\n",
       "      <td>1.0</td>\n",
       "      <td>l1</td>\n",
       "      <td>0.757387</td>\n",
       "    </tr>\n",
       "    <tr>\n",
       "      <td>664</td>\n",
       "      <td>0.01</td>\n",
       "      <td>{0: 1.0, 1: 1.0}</td>\n",
       "      <td>10.0</td>\n",
       "      <td>l2</td>\n",
       "      <td>0.757387</td>\n",
       "    </tr>\n",
       "    <tr>\n",
       "      <td>340</td>\n",
       "      <td>1.00</td>\n",
       "      <td>{0: 1.0, 1: 1.0}</td>\n",
       "      <td>1.0</td>\n",
       "      <td>l1</td>\n",
       "      <td>0.757387</td>\n",
       "    </tr>\n",
       "    <tr>\n",
       "      <td>232</td>\n",
       "      <td>0.10</td>\n",
       "      <td>{0: 1.0, 1: 1.0}</td>\n",
       "      <td>10.0</td>\n",
       "      <td>l1</td>\n",
       "      <td>0.757387</td>\n",
       "    </tr>\n",
       "    <tr>\n",
       "      <td>844</td>\n",
       "      <td>0.10</td>\n",
       "      <td>{0: 1.0, 1: 1.0}</td>\n",
       "      <td>100.0</td>\n",
       "      <td>l2</td>\n",
       "      <td>0.755832</td>\n",
       "    </tr>\n",
       "    <tr>\n",
       "      <td>484</td>\n",
       "      <td>10.00</td>\n",
       "      <td>{0: 1.0, 1: 1.0}</td>\n",
       "      <td>1.0</td>\n",
       "      <td>l1</td>\n",
       "      <td>0.755832</td>\n",
       "    </tr>\n",
       "    <tr>\n",
       "      <td>556</td>\n",
       "      <td>10.00</td>\n",
       "      <td>{0: 1.0, 1: 1.0}</td>\n",
       "      <td>100.0</td>\n",
       "      <td>l1</td>\n",
       "      <td>0.755832</td>\n",
       "    </tr>\n",
       "  </tbody>\n",
       "</table>\n",
       "</div>"
      ],
      "text/plain": [
       "         c      class_weight  intercept_scaling penalty     score\n",
       "124   0.01  {0: 1.0, 1: 1.0}              100.0      l1  0.758942\n",
       "916   1.00  {0: 1.0, 1: 1.0}                1.0      l2  0.758942\n",
       "448  10.00  {0: 1.0, 1: 1.0}                0.1      l1  0.757387\n",
       "88    0.01  {0: 1.0, 1: 1.0}               10.0      l1  0.757387\n",
       "304   1.00  {0: 1.0, 1: 1.0}                0.1      l1  0.757387\n",
       "196   0.10  {0: 1.0, 1: 1.0}                1.0      l1  0.757387\n",
       "664   0.01  {0: 1.0, 1: 1.0}               10.0      l2  0.757387\n",
       "340   1.00  {0: 1.0, 1: 1.0}                1.0      l1  0.757387\n",
       "232   0.10  {0: 1.0, 1: 1.0}               10.0      l1  0.757387\n",
       "844   0.10  {0: 1.0, 1: 1.0}              100.0      l2  0.755832\n",
       "484  10.00  {0: 1.0, 1: 1.0}                1.0      l1  0.755832\n",
       "556  10.00  {0: 1.0, 1: 1.0}              100.0      l1  0.755832"
      ]
     },
     "execution_count": 20,
     "metadata": {},
     "output_type": "execute_result"
    }
   ],
   "source": [
    "dct = pd.DataFrame()\n",
    "for penalty in ['l1', 'l2']:\n",
    "    for c in [0.01,0.1,1,10]:\n",
    "        for intercept_scaling in [0.1,1,10,100]:\n",
    "            for class_weight in w:\n",
    "                model = LogisticRegression(random_state=12345, penalty=penalty, fit_intercept=True,\\\n",
    "                                               solver='liblinear', max_iter=200, C=c, intercept_scaling=\\\n",
    "                                           intercept_scaling, class_weight=class_weight)\n",
    "                model.fit(features_train, target_train)\n",
    "                dct = dct.append({'penalty': penalty, 'intercept_scaling': \\\n",
    "                                  intercept_scaling, 'c': c, 'class_weight': class_weight,\\\n",
    "                                  'score': model.score(features_valid,target_valid)}, ignore_index=True)\n",
    "\n",
    "dct.sort_values('score',ascending=False, inplace=True)\n",
    "dct.head(12)"
   ]
  },
  {
   "cell_type": "code",
   "execution_count": 21,
   "id": "cc52ca81",
   "metadata": {},
   "outputs": [
    {
     "data": {
      "text/plain": [
       "{0: 1.0, 1: 1.0}    9\n",
       "Name: class_weight, dtype: int64"
      ]
     },
     "execution_count": 21,
     "metadata": {},
     "output_type": "execute_result"
    }
   ],
   "source": [
    "fgg = dct.head(1)\n",
    "top_score = fgg.score\n",
    "dct1 = dct[dct['score'] >= 0.756]\n",
    "dct1.class_weight.value_counts()"
   ]
  },
  {
   "cell_type": "markdown",
   "id": "a8d3a8cd",
   "metadata": {},
   "source": [
    "The weight of 1 to each class label dominates the chart's top, with the top score equal to the previous chart's top score. The default value is giving the class labels equal weights anyway, so `class_weight` can be disregarded."
   ]
  },
  {
   "cell_type": "markdown",
   "id": "08ad0ec5",
   "metadata": {},
   "source": [
    "### LogisticRegression tuning summation <a id=\"logrtunsum\"></a>"
   ]
  },
  {
   "cell_type": "markdown",
   "id": "a2d3f404",
   "metadata": {},
   "source": [
    "By specifying `intercept_scaling` the top score increased from 0.757 to almost 0.759. The final chosen parameters for this regression are\n",
    "- `C` (limited to 0.01,0.1,1 and 10)\n",
    "- `intercept_scaling` = 0.1 to 100 in jumps of 10x\n",
    "- `penalty` = l1 or l2\n",
    "<p></p>\n",
    "- `fit_intercept` = True\n",
    "- `max_iter` = 200\n",
    "- `solver` = 'liblinear'\n",
    "<p></p>\n",
    "- `class_weight`, `tol` and `verbose` can be disregarded"
   ]
  },
  {
   "cell_type": "markdown",
   "id": "200b30bd",
   "metadata": {},
   "source": [
    "## DecisionTreeRegressor <a id=\"dtr\"></a>"
   ]
  },
  {
   "cell_type": "code",
   "execution_count": 22,
   "id": "e41d9da4",
   "metadata": {},
   "outputs": [
    {
     "data": {
      "text/html": [
       "<div>\n",
       "<style scoped>\n",
       "    .dataframe tbody tr th:only-of-type {\n",
       "        vertical-align: middle;\n",
       "    }\n",
       "\n",
       "    .dataframe tbody tr th {\n",
       "        vertical-align: top;\n",
       "    }\n",
       "\n",
       "    .dataframe thead th {\n",
       "        text-align: right;\n",
       "    }\n",
       "</style>\n",
       "<table border=\"1\" class=\"dataframe\">\n",
       "  <thead>\n",
       "    <tr style=\"text-align: right;\">\n",
       "      <th></th>\n",
       "      <th>criterion</th>\n",
       "      <th>depth</th>\n",
       "      <th>leaf</th>\n",
       "      <th>score</th>\n",
       "      <th>split</th>\n",
       "      <th>splitter</th>\n",
       "    </tr>\n",
       "  </thead>\n",
       "  <tbody>\n",
       "    <tr>\n",
       "      <td>663</td>\n",
       "      <td>poisson</td>\n",
       "      <td>13.0</td>\n",
       "      <td>6.0</td>\n",
       "      <td>0.263196</td>\n",
       "      <td>2.0</td>\n",
       "      <td>random</td>\n",
       "    </tr>\n",
       "    <tr>\n",
       "      <td>791</td>\n",
       "      <td>poisson</td>\n",
       "      <td>13.0</td>\n",
       "      <td>6.0</td>\n",
       "      <td>0.263196</td>\n",
       "      <td>10.0</td>\n",
       "      <td>random</td>\n",
       "    </tr>\n",
       "    <tr>\n",
       "      <td>759</td>\n",
       "      <td>poisson</td>\n",
       "      <td>13.0</td>\n",
       "      <td>6.0</td>\n",
       "      <td>0.263196</td>\n",
       "      <td>8.0</td>\n",
       "      <td>random</td>\n",
       "    </tr>\n",
       "    <tr>\n",
       "      <td>727</td>\n",
       "      <td>poisson</td>\n",
       "      <td>13.0</td>\n",
       "      <td>6.0</td>\n",
       "      <td>0.263196</td>\n",
       "      <td>6.0</td>\n",
       "      <td>random</td>\n",
       "    </tr>\n",
       "    <tr>\n",
       "      <td>695</td>\n",
       "      <td>poisson</td>\n",
       "      <td>13.0</td>\n",
       "      <td>6.0</td>\n",
       "      <td>0.263196</td>\n",
       "      <td>4.0</td>\n",
       "      <td>random</td>\n",
       "    </tr>\n",
       "    <tr>\n",
       "      <td>495</td>\n",
       "      <td>poisson</td>\n",
       "      <td>10.0</td>\n",
       "      <td>4.0</td>\n",
       "      <td>0.236074</td>\n",
       "      <td>2.0</td>\n",
       "      <td>random</td>\n",
       "    </tr>\n",
       "    <tr>\n",
       "      <td>559</td>\n",
       "      <td>poisson</td>\n",
       "      <td>10.0</td>\n",
       "      <td>4.0</td>\n",
       "      <td>0.236074</td>\n",
       "      <td>6.0</td>\n",
       "      <td>random</td>\n",
       "    </tr>\n",
       "    <tr>\n",
       "      <td>527</td>\n",
       "      <td>poisson</td>\n",
       "      <td>10.0</td>\n",
       "      <td>4.0</td>\n",
       "      <td>0.236074</td>\n",
       "      <td>4.0</td>\n",
       "      <td>random</td>\n",
       "    </tr>\n",
       "    <tr>\n",
       "      <td>591</td>\n",
       "      <td>poisson</td>\n",
       "      <td>10.0</td>\n",
       "      <td>4.0</td>\n",
       "      <td>0.236074</td>\n",
       "      <td>8.0</td>\n",
       "      <td>random</td>\n",
       "    </tr>\n",
       "    <tr>\n",
       "      <td>621</td>\n",
       "      <td>friedman_mse</td>\n",
       "      <td>10.0</td>\n",
       "      <td>4.0</td>\n",
       "      <td>0.236014</td>\n",
       "      <td>10.0</td>\n",
       "      <td>random</td>\n",
       "    </tr>\n",
       "  </tbody>\n",
       "</table>\n",
       "</div>"
      ],
      "text/plain": [
       "        criterion  depth  leaf     score  split splitter\n",
       "663       poisson   13.0   6.0  0.263196    2.0   random\n",
       "791       poisson   13.0   6.0  0.263196   10.0   random\n",
       "759       poisson   13.0   6.0  0.263196    8.0   random\n",
       "727       poisson   13.0   6.0  0.263196    6.0   random\n",
       "695       poisson   13.0   6.0  0.263196    4.0   random\n",
       "495       poisson   10.0   4.0  0.236074    2.0   random\n",
       "559       poisson   10.0   4.0  0.236074    6.0   random\n",
       "527       poisson   10.0   4.0  0.236074    4.0   random\n",
       "591       poisson   10.0   4.0  0.236074    8.0   random\n",
       "621  friedman_mse   10.0   4.0  0.236014   10.0   random"
      ]
     },
     "metadata": {},
     "output_type": "display_data"
    },
    {
     "data": {
      "text/html": [
       "<div>\n",
       "<style scoped>\n",
       "    .dataframe tbody tr th:only-of-type {\n",
       "        vertical-align: middle;\n",
       "    }\n",
       "\n",
       "    .dataframe tbody tr th {\n",
       "        vertical-align: top;\n",
       "    }\n",
       "\n",
       "    .dataframe thead th {\n",
       "        text-align: right;\n",
       "    }\n",
       "</style>\n",
       "<table border=\"1\" class=\"dataframe\">\n",
       "  <thead>\n",
       "    <tr style=\"text-align: right;\">\n",
       "      <th></th>\n",
       "      <th>criterion</th>\n",
       "      <th>depth</th>\n",
       "      <th>leaf</th>\n",
       "      <th>score</th>\n",
       "      <th>split</th>\n",
       "      <th>splitter</th>\n",
       "    </tr>\n",
       "  </thead>\n",
       "  <tbody>\n",
       "    <tr>\n",
       "      <td>663</td>\n",
       "      <td>poisson</td>\n",
       "      <td>13.0</td>\n",
       "      <td>6.0</td>\n",
       "      <td>0.263196</td>\n",
       "      <td>2.0</td>\n",
       "      <td>random</td>\n",
       "    </tr>\n",
       "    <tr>\n",
       "      <td>791</td>\n",
       "      <td>poisson</td>\n",
       "      <td>13.0</td>\n",
       "      <td>6.0</td>\n",
       "      <td>0.263196</td>\n",
       "      <td>10.0</td>\n",
       "      <td>random</td>\n",
       "    </tr>\n",
       "    <tr>\n",
       "      <td>759</td>\n",
       "      <td>poisson</td>\n",
       "      <td>13.0</td>\n",
       "      <td>6.0</td>\n",
       "      <td>0.263196</td>\n",
       "      <td>8.0</td>\n",
       "      <td>random</td>\n",
       "    </tr>\n",
       "    <tr>\n",
       "      <td>727</td>\n",
       "      <td>poisson</td>\n",
       "      <td>13.0</td>\n",
       "      <td>6.0</td>\n",
       "      <td>0.263196</td>\n",
       "      <td>6.0</td>\n",
       "      <td>random</td>\n",
       "    </tr>\n",
       "    <tr>\n",
       "      <td>695</td>\n",
       "      <td>poisson</td>\n",
       "      <td>13.0</td>\n",
       "      <td>6.0</td>\n",
       "      <td>0.263196</td>\n",
       "      <td>4.0</td>\n",
       "      <td>random</td>\n",
       "    </tr>\n",
       "  </tbody>\n",
       "</table>\n",
       "</div>"
      ],
      "text/plain": [
       "    criterion  depth  leaf     score  split splitter\n",
       "663   poisson   13.0   6.0  0.263196    2.0   random\n",
       "791   poisson   13.0   6.0  0.263196   10.0   random\n",
       "759   poisson   13.0   6.0  0.263196    8.0   random\n",
       "727   poisson   13.0   6.0  0.263196    6.0   random\n",
       "695   poisson   13.0   6.0  0.263196    4.0   random"
      ]
     },
     "execution_count": 22,
     "metadata": {},
     "output_type": "execute_result"
    }
   ],
   "source": [
    "dct = pd.DataFrame()\n",
    "for depth in range(1, 19,3):\n",
    "    for split in range(2, 12,2):\n",
    "        for leaf in range(2, 9,2):\n",
    "            for splitter in ['best', 'random']:\n",
    "                for criterion in ['squared_error', 'friedman_mse', 'absolute_error', 'poisson']:\n",
    "                    model = DecisionTreeRegressor(random_state=12345, max_depth=depth, min_samples_split=split,\\\n",
    "                                                   min_samples_leaf=leaf, criterion=criterion, splitter=splitter)\n",
    "                    model.fit(features_train, target_train)\n",
    "                    dct = dct.append({'depth': depth, 'split': split,'leaf': leaf, 'splitter': splitter, 'criterion': \\\n",
    "                                      criterion, 'score': model.score(features_valid,target_valid)}, ignore_index=True)\n",
    "\n",
    "dct.sort_values('score',ascending=False, inplace=True)\n",
    "display(dct.head(10))\n",
    "dct[dct['score'] >= 0.263195]"
   ]
  },
  {
   "cell_type": "code",
   "execution_count": 23,
   "id": "8ef3b5b7",
   "metadata": {},
   "outputs": [
    {
     "data": {
      "text/plain": [
       "4.0     1\n",
       "6.0     1\n",
       "8.0     1\n",
       "10.0    1\n",
       "2.0     1\n",
       "Name: split, dtype: int64"
      ]
     },
     "execution_count": 23,
     "metadata": {},
     "output_type": "execute_result"
    }
   ],
   "source": [
    "dct.head(5).split.value_counts()"
   ]
  },
  {
   "cell_type": "markdown",
   "id": "864aec25",
   "metadata": {},
   "source": [
    "Score is very bad. Maybe additional parameters could help. `min_samples_split` seems irrellevant and can probably be disregarded. 'poisson' criteria, 'random' `splitter` and `max_depth`, `min_samples_leaf` of 13 and 6 respectively are the most-fitted parameters."
   ]
  },
  {
   "cell_type": "markdown",
   "id": "66a6aea1",
   "metadata": {},
   "source": [
    "<div class=\"alert alert-warning\">\n",
    "<b>Reviewer's comment</b>\n",
    "\n",
    "It doesn't make any sense to use a regression model for a classification problem, especially if there is an equivalent classfication model.\n",
    "\n",
    "</div>"
   ]
  },
  {
   "cell_type": "markdown",
   "id": "e924bfde",
   "metadata": {},
   "source": [
    "###  `ccp_alpha` not needed to be specified <a id='ccopj'></a>"
   ]
  },
  {
   "cell_type": "code",
   "execution_count": 24,
   "id": "2bbea0a0",
   "metadata": {},
   "outputs": [
    {
     "data": {
      "text/html": [
       "<div>\n",
       "<style scoped>\n",
       "    .dataframe tbody tr th:only-of-type {\n",
       "        vertical-align: middle;\n",
       "    }\n",
       "\n",
       "    .dataframe tbody tr th {\n",
       "        vertical-align: top;\n",
       "    }\n",
       "\n",
       "    .dataframe thead th {\n",
       "        text-align: right;\n",
       "    }\n",
       "</style>\n",
       "<table border=\"1\" class=\"dataframe\">\n",
       "  <thead>\n",
       "    <tr style=\"text-align: right;\">\n",
       "      <th></th>\n",
       "      <th>ccp_alpha</th>\n",
       "      <th>score</th>\n",
       "    </tr>\n",
       "  </thead>\n",
       "  <tbody>\n",
       "    <tr>\n",
       "      <td>0</td>\n",
       "      <td>0.000</td>\n",
       "      <td>0.263196</td>\n",
       "    </tr>\n",
       "    <tr>\n",
       "      <td>1</td>\n",
       "      <td>0.001</td>\n",
       "      <td>0.219755</td>\n",
       "    </tr>\n",
       "    <tr>\n",
       "      <td>2</td>\n",
       "      <td>0.010</td>\n",
       "      <td>-0.000896</td>\n",
       "    </tr>\n",
       "    <tr>\n",
       "      <td>3</td>\n",
       "      <td>0.100</td>\n",
       "      <td>-0.000896</td>\n",
       "    </tr>\n",
       "    <tr>\n",
       "      <td>4</td>\n",
       "      <td>1.000</td>\n",
       "      <td>-0.000896</td>\n",
       "    </tr>\n",
       "    <tr>\n",
       "      <td>5</td>\n",
       "      <td>10.000</td>\n",
       "      <td>-0.000896</td>\n",
       "    </tr>\n",
       "  </tbody>\n",
       "</table>\n",
       "</div>"
      ],
      "text/plain": [
       "   ccp_alpha     score\n",
       "0      0.000  0.263196\n",
       "1      0.001  0.219755\n",
       "2      0.010 -0.000896\n",
       "3      0.100 -0.000896\n",
       "4      1.000 -0.000896\n",
       "5     10.000 -0.000896"
      ]
     },
     "execution_count": 24,
     "metadata": {},
     "output_type": "execute_result"
    }
   ],
   "source": [
    "dct = pd.DataFrame()\n",
    "for ccp_alpha in [0, 0.001,0.01,0.1,1,10]:\n",
    "    model = DecisionTreeRegressor(random_state=12345, max_depth=13\\\n",
    "                  ,min_samples_leaf=6, criterion='poisson', splitter='random',ccp_alpha=ccp_alpha)\n",
    "    model.fit(features_train, target_train)\n",
    "    dct = dct.append({'ccp_alpha': ccp_alpha, \\\n",
    "                      'score': model.score(features_valid,target_valid)}, ignore_index=True)\n",
    "\n",
    "dct.sort_values('score',ascending=False, inplace=True)\n",
    "dct.head(10)"
   ]
  },
  {
   "cell_type": "markdown",
   "id": "28d9adc0",
   "metadata": {},
   "source": [
    "No change in top score. `ccp_alpha` as 0 seems like the best choice, and as its the default value it can be disregarded"
   ]
  },
  {
   "cell_type": "markdown",
   "id": "f20cc1a7",
   "metadata": {},
   "source": [
    "###  `min_impurity_decrease` not needed to be specified <a id='impurtyb'></a>"
   ]
  },
  {
   "cell_type": "code",
   "execution_count": 25,
   "id": "a5b8da9e",
   "metadata": {},
   "outputs": [
    {
     "data": {
      "text/html": [
       "<div>\n",
       "<style scoped>\n",
       "    .dataframe tbody tr th:only-of-type {\n",
       "        vertical-align: middle;\n",
       "    }\n",
       "\n",
       "    .dataframe tbody tr th {\n",
       "        vertical-align: top;\n",
       "    }\n",
       "\n",
       "    .dataframe thead th {\n",
       "        text-align: right;\n",
       "    }\n",
       "</style>\n",
       "<table border=\"1\" class=\"dataframe\">\n",
       "  <thead>\n",
       "    <tr style=\"text-align: right;\">\n",
       "      <th></th>\n",
       "      <th>min_impurity_decrease</th>\n",
       "      <th>score</th>\n",
       "      <th>split</th>\n",
       "    </tr>\n",
       "  </thead>\n",
       "  <tbody>\n",
       "    <tr>\n",
       "      <td>0</td>\n",
       "      <td>0.0</td>\n",
       "      <td>0.263196</td>\n",
       "      <td>2.0</td>\n",
       "    </tr>\n",
       "    <tr>\n",
       "      <td>12</td>\n",
       "      <td>0.0</td>\n",
       "      <td>0.263196</td>\n",
       "      <td>4.0</td>\n",
       "    </tr>\n",
       "    <tr>\n",
       "      <td>54</td>\n",
       "      <td>0.0</td>\n",
       "      <td>0.263196</td>\n",
       "      <td>11.0</td>\n",
       "    </tr>\n",
       "    <tr>\n",
       "      <td>48</td>\n",
       "      <td>0.0</td>\n",
       "      <td>0.263196</td>\n",
       "      <td>10.0</td>\n",
       "    </tr>\n",
       "    <tr>\n",
       "      <td>42</td>\n",
       "      <td>0.0</td>\n",
       "      <td>0.263196</td>\n",
       "      <td>9.0</td>\n",
       "    </tr>\n",
       "    <tr>\n",
       "      <td>36</td>\n",
       "      <td>0.0</td>\n",
       "      <td>0.263196</td>\n",
       "      <td>8.0</td>\n",
       "    </tr>\n",
       "    <tr>\n",
       "      <td>24</td>\n",
       "      <td>0.0</td>\n",
       "      <td>0.263196</td>\n",
       "      <td>6.0</td>\n",
       "    </tr>\n",
       "    <tr>\n",
       "      <td>18</td>\n",
       "      <td>0.0</td>\n",
       "      <td>0.263196</td>\n",
       "      <td>5.0</td>\n",
       "    </tr>\n",
       "    <tr>\n",
       "      <td>30</td>\n",
       "      <td>0.0</td>\n",
       "      <td>0.263196</td>\n",
       "      <td>7.0</td>\n",
       "    </tr>\n",
       "    <tr>\n",
       "      <td>6</td>\n",
       "      <td>0.0</td>\n",
       "      <td>0.263196</td>\n",
       "      <td>3.0</td>\n",
       "    </tr>\n",
       "  </tbody>\n",
       "</table>\n",
       "</div>"
      ],
      "text/plain": [
       "    min_impurity_decrease     score  split\n",
       "0                     0.0  0.263196    2.0\n",
       "12                    0.0  0.263196    4.0\n",
       "54                    0.0  0.263196   11.0\n",
       "48                    0.0  0.263196   10.0\n",
       "42                    0.0  0.263196    9.0\n",
       "36                    0.0  0.263196    8.0\n",
       "24                    0.0  0.263196    6.0\n",
       "18                    0.0  0.263196    5.0\n",
       "30                    0.0  0.263196    7.0\n",
       "6                     0.0  0.263196    3.0"
      ]
     },
     "execution_count": 25,
     "metadata": {},
     "output_type": "execute_result"
    }
   ],
   "source": [
    "dct = pd.DataFrame()\n",
    "\n",
    "for split in range(2, 12):\n",
    "    for min_impurity_decrease in [0, 0.001,0.01,0.1,1,10]:\n",
    "        model = DecisionTreeRegressor(random_state=12345, max_depth=13, min_samples_split=split\\\n",
    "                      ,min_samples_leaf=6, criterion='poisson', splitter='random',min_impurity_decrease=min_impurity_decrease)\n",
    "        model.fit(features_train, target_train)\n",
    "        dct = dct.append({'split': split, 'min_impurity_decrease': min_impurity_decrease, \\\n",
    "                          'score': model.score(features_valid,target_valid)}, ignore_index=True)\n",
    "\n",
    "dct.sort_values('score',ascending=False, inplace=True)\n",
    "dct.head(10)"
   ]
  },
  {
   "cell_type": "markdown",
   "id": "b59498a4",
   "metadata": {},
   "source": [
    "Same bad score. Again, 0 is the default value for `min_impurity_decrease` so it can be disregarded. `min_samples_split` can be disregarded from now on as well."
   ]
  },
  {
   "cell_type": "markdown",
   "id": "cd6e0032",
   "metadata": {},
   "source": [
    "### sketch for slowly checking all at once (for ellusive combinations) <a id='sktch'></a>"
   ]
  },
  {
   "cell_type": "code",
   "execution_count": 26,
   "id": "cc776280",
   "metadata": {},
   "outputs": [],
   "source": [
    "# dct = pd.DataFrame()\n",
    "# for depth in range(1, 19):\n",
    "#     for split in range(2, 12):\n",
    "#         for leaf in range(2, 9):\n",
    "#             for splitter in ['best', 'random']:\n",
    "#                 for criterion in ['squared_error', 'friedman_mse', 'absolute_error', 'poisson']:\n",
    "#                     for ccp_alpha in [0,0.001,0.01,0.1,1,10,100,1000]:\n",
    "#                         for min_impurity_decrease in [0,0.001,0.01,0.1,1,10,100,1000]:\n",
    "#                             for max_leaf_nodes in [5,20,None]:\n",
    "#                                 for min_weight_fraction_leaf in [0,0.25,0.5]:\n",
    "#                                     for max_features in [None,'auto','sqrt','log2']:\n",
    "                                    \n",
    "                                    \n",
    "#                                         model = DecisionTreeRegressor(random_state=12345, max_depth=depth, min_samples_split=split,\\\n",
    "#                                                                        min_samples_leaf=leaf, criterion=criterion, splitter=splitter,\\\n",
    "#                                                                      ccp_alpha=ccp_alpha, min_impurity_decrease=min_impurity_decrease,\\\n",
    "#                                                                      max_leaf_nodes=max_leaf_nodes,\\\n",
    "#                                                                       min_weight_fraction_leaf=min_weight_fraction_leaf,max_features=max_features)\n",
    "#                                         model.fit(features_train, target_train)\n",
    "#                                         dct = dct.append({'depth': depth, 'split': split,'leaf': leaf, 'splitter': splitter, \\\n",
    "#                                                           'criterion': criterion, 'ccp_alpha': ccp_alpha, 'min_impurity_decrease': \\\n",
    "#                                                           min_impurity_decrease, \\\n",
    "#                                                           'max_leaf_nodes': max_leaf_nodes, 'min_weight_fraction_leaf': \\\n",
    "#                                                           min_weight_fraction_leaf, 'max_features': max_features,\\\n",
    "#                                                           'score': model.score(features_valid,target_valid)}, ignore_index=True)\n",
    "\n",
    "# dct.sort_values('score',ascending=False, inplace=True)\n",
    "# dct.head(10)"
   ]
  },
  {
   "cell_type": "markdown",
   "id": "ac97ab48",
   "metadata": {},
   "source": [
    "### DecisionTreeRegressor tuning summation <a id=\"dtrtunsum\"></a>"
   ]
  },
  {
   "cell_type": "markdown",
   "id": "6c2fb219",
   "metadata": {},
   "source": [
    "The score is very bad, with 26% accuracy. Best parameter values found:\n",
    "\n",
    "- `criterion` = 'poisson'\n",
    "- `max_depth` = 13\n",
    "- `min_samples_leaf` = 6\n",
    "- `splitter` = 'random'\n",
    "<p></p>\n",
    "- `ccp_alpha`, `min_impurity_decrease` and `min_samples_split` can be disregarded"
   ]
  },
  {
   "cell_type": "markdown",
   "id": "be6dba30",
   "metadata": {},
   "source": [
    "## RandomForestRegressor <a id=\"rfr\"></a>"
   ]
  },
  {
   "cell_type": "code",
   "execution_count": 27,
   "id": "0e6f8cf5",
   "metadata": {},
   "outputs": [
    {
     "data": {
      "text/html": [
       "<div>\n",
       "<style scoped>\n",
       "    .dataframe tbody tr th:only-of-type {\n",
       "        vertical-align: middle;\n",
       "    }\n",
       "\n",
       "    .dataframe tbody tr th {\n",
       "        vertical-align: top;\n",
       "    }\n",
       "\n",
       "    .dataframe thead th {\n",
       "        text-align: right;\n",
       "    }\n",
       "</style>\n",
       "<table border=\"1\" class=\"dataframe\">\n",
       "  <thead>\n",
       "    <tr style=\"text-align: right;\">\n",
       "      <th></th>\n",
       "      <th>criterion</th>\n",
       "      <th>depth</th>\n",
       "      <th>estimators</th>\n",
       "      <th>leaf</th>\n",
       "      <th>score</th>\n",
       "      <th>split</th>\n",
       "    </tr>\n",
       "  </thead>\n",
       "  <tbody>\n",
       "    <tr>\n",
       "      <td>204</td>\n",
       "      <td>squared_error</td>\n",
       "      <td>8.0</td>\n",
       "      <td>8.0</td>\n",
       "      <td>3.0</td>\n",
       "      <td>0.253110</td>\n",
       "      <td>11.0</td>\n",
       "    </tr>\n",
       "    <tr>\n",
       "      <td>195</td>\n",
       "      <td>squared_error</td>\n",
       "      <td>8.0</td>\n",
       "      <td>8.0</td>\n",
       "      <td>2.0</td>\n",
       "      <td>0.252189</td>\n",
       "      <td>11.0</td>\n",
       "    </tr>\n",
       "    <tr>\n",
       "      <td>150</td>\n",
       "      <td>squared_error</td>\n",
       "      <td>8.0</td>\n",
       "      <td>8.0</td>\n",
       "      <td>3.0</td>\n",
       "      <td>0.251362</td>\n",
       "      <td>9.0</td>\n",
       "    </tr>\n",
       "    <tr>\n",
       "      <td>177</td>\n",
       "      <td>squared_error</td>\n",
       "      <td>8.0</td>\n",
       "      <td>8.0</td>\n",
       "      <td>3.0</td>\n",
       "      <td>0.250076</td>\n",
       "      <td>10.0</td>\n",
       "    </tr>\n",
       "    <tr>\n",
       "      <td>114</td>\n",
       "      <td>squared_error</td>\n",
       "      <td>8.0</td>\n",
       "      <td>8.0</td>\n",
       "      <td>2.0</td>\n",
       "      <td>0.249912</td>\n",
       "      <td>8.0</td>\n",
       "    </tr>\n",
       "  </tbody>\n",
       "</table>\n",
       "</div>"
      ],
      "text/plain": [
       "         criterion  depth  estimators  leaf     score  split\n",
       "204  squared_error    8.0         8.0   3.0  0.253110   11.0\n",
       "195  squared_error    8.0         8.0   2.0  0.252189   11.0\n",
       "150  squared_error    8.0         8.0   3.0  0.251362    9.0\n",
       "177  squared_error    8.0         8.0   3.0  0.250076   10.0\n",
       "114  squared_error    8.0         8.0   2.0  0.249912    8.0"
      ]
     },
     "execution_count": 27,
     "metadata": {},
     "output_type": "execute_result"
    }
   ],
   "source": [
    "dct = pd.DataFrame()\n",
    "for depth in range(6, 13,2):\n",
    "    for split in range(8, 12):\n",
    "        for leaf in range(2, 5):\n",
    "            for estimators in range(4, 10,2):\n",
    "                for criterion in ['squared_error', 'absolute_error', 'poisson']:\n",
    "                    model = RandomForestRegressor(random_state=12345, max_depth=depth, min_samples_split=split,\\\n",
    "                                                   min_samples_leaf=leaf, criterion=criterion, n_estimators=estimators)\n",
    "                    model.fit(features_train, target_train)\n",
    "                    dct = dct.append({'depth': depth, 'split': split,'leaf': leaf, 'estimators': estimators, 'criterion': \\\n",
    "                                      criterion, 'score': model.score(features_valid,target_valid)}, ignore_index=True)\n",
    "\n",
    "dct.sort_values('score',ascending=False, inplace=True)\n",
    "dct.head()"
   ]
  },
  {
   "cell_type": "markdown",
   "id": "5a80281d",
   "metadata": {},
   "source": [
    "Very bad score - 25%. Best combination attained -\n",
    "\n",
    "- `criteria` = 'squared_error'\n",
    "- `max_depth` = 8\n",
    "- `n_estimators` = 8\n",
    "- `min_samples_leaf` = 3\n",
    "- `min_samples_split` = 11"
   ]
  },
  {
   "cell_type": "markdown",
   "id": "e8f19171",
   "metadata": {},
   "source": [
    "## LinearRegression <a id=\"linr\"></a>"
   ]
  },
  {
   "cell_type": "code",
   "execution_count": 28,
   "id": "58517599",
   "metadata": {},
   "outputs": [
    {
     "data": {
      "text/html": [
       "<div>\n",
       "<style scoped>\n",
       "    .dataframe tbody tr th:only-of-type {\n",
       "        vertical-align: middle;\n",
       "    }\n",
       "\n",
       "    .dataframe tbody tr th {\n",
       "        vertical-align: top;\n",
       "    }\n",
       "\n",
       "    .dataframe thead th {\n",
       "        text-align: right;\n",
       "    }\n",
       "</style>\n",
       "<table border=\"1\" class=\"dataframe\">\n",
       "  <thead>\n",
       "    <tr style=\"text-align: right;\">\n",
       "      <th></th>\n",
       "      <th>fit_intercept</th>\n",
       "      <th>score</th>\n",
       "    </tr>\n",
       "  </thead>\n",
       "  <tbody>\n",
       "    <tr>\n",
       "      <td>0</td>\n",
       "      <td>True</td>\n",
       "      <td>0.069702</td>\n",
       "    </tr>\n",
       "    <tr>\n",
       "      <td>1</td>\n",
       "      <td>False</td>\n",
       "      <td>0.069702</td>\n",
       "    </tr>\n",
       "  </tbody>\n",
       "</table>\n",
       "</div>"
      ],
      "text/plain": [
       "  fit_intercept     score\n",
       "0          True  0.069702\n",
       "1         False  0.069702"
      ]
     },
     "execution_count": 28,
     "metadata": {},
     "output_type": "execute_result"
    }
   ],
   "source": [
    "dct = pd.DataFrame()\n",
    "for fit_intercept in ['True', 'False']:                \n",
    "    model = LinearRegression(fit_intercept=fit_intercept)\n",
    "    model.fit(features_train, target_train)\n",
    "    dct = dct.append({'fit_intercept': fit_intercept, 'score': model.score(features_valid,target_valid)}, ignore_index=True)\n",
    "\n",
    "dct.sort_values('score',ascending=False, inplace=True)\n",
    "dct.head(10)"
   ]
  },
  {
   "cell_type": "markdown",
   "id": "48218a9e",
   "metadata": {},
   "source": [
    "Very bad score - 7%."
   ]
  },
  {
   "cell_type": "markdown",
   "id": "30d64dbd",
   "metadata": {},
   "source": [
    "## Tuning conclusions <a id='tratunconc'></a>"
   ]
  },
  {
   "cell_type": "markdown",
   "id": "630886b6",
   "metadata": {},
   "source": [
    "best score achieved by RandomForestClassifier (81%), with DesicionTreeClassifier and LogisticRegression closely follow (80% and 76% respectively). DecisionTreeRegressor and RandomForestRegressor have a score much worse (26%), with LinearRegression worst score of all, of 7%. The problem of determine the customer's plan is a classification problem, so its not surprising to see regression algorithms fail to solve the problem reasonably."
   ]
  },
  {
   "cell_type": "markdown",
   "id": "f5408f52",
   "metadata": {},
   "source": [
    "<div class=\"alert alert-success\">\n",
    "<b>Reviewer's comment</b>\n",
    "\n",
    "Very good, you tried a couple of different models and extensively tuned their hyperparameters using the validation set.\n",
    "\n",
    "</div>"
   ]
  },
  {
   "cell_type": "markdown",
   "id": "fb56eed1",
   "metadata": {},
   "source": [
    "<div class=\"alert alert-warning\">\n",
    "<b>Reviewer's comment</b>\n",
    "\n",
    "Yeah, I guess you can try using regression models for classification problems once in your life to see that it makes no sense :) Every tool has its application area, like a hammer is pretty good at hitting nails, but completely useless for making holes in the wall (unless the wall is made of paper), on the other hand hitting nails with a drill doesn't make sense, but it's good at making holes. I'm not sure what the idea behind this was, maybe you've got confused by the name of logistic regression (which is not a regression model despite the name)?\n",
    "\n",
    "</div>"
   ]
  },
  {
   "cell_type": "markdown",
   "id": "6a7fe73c",
   "metadata": {},
   "source": [
    "<div class=\"alert alert-info\">\n",
    "I actually thought its regression, thanks for clarifying this! I did this project like a robot, thought the task was to go through all algorithms introduced in the sprint, for any hyperparameter that might be relevant, and after a while realised it doesn't make any sense, to wait 20 minutes for every restart=>kernel:) On the other hand, if there's a specific parameter combination you might miss it when you optimise a single hyperparameter everytime. Anyway, logistic regression is really good for classification? or its something specific about this dataset (the forest had 1 tree so it supports that..)?\n",
    "</div>"
   ]
  },
  {
   "cell_type": "markdown",
   "id": "1b05d5eb",
   "metadata": {},
   "source": [
    "<div class=\"alert alert-warning\">\n",
    "<b>Reviewer's comment V2</b>\n",
    "\n",
    "Yeah, the naming of logistic regression is unfortunate, but it's pretty much set now, so... (although it really has some relation to linear regression, as the idea is pretty much to just apply a sigmoid function to a linear combination of features (a sum with some coefficients, in other words))\n",
    "    \n",
    "Going through all algorithms and all possible values of hyperparameters is not really tractable. For many hyperparameters there are infinite possible values, and even if we consider a finite subset of hyperparameters, the number of models we have to train to try them all grows multiplicatively. That is, if we have 5 hyperparameters, and we want to try 10 possible values of each, we're looking at training 10^5 = 10000 models already. Even if training a model takes 1 second, we'll need ~3 hours for this. Also, for some some hyperparameters, like tree depth, the memory requirements of the model grow exponentially. More specifically, a tree with max depth of k has about 2^k nodes. Let's assume for a moment that one node needs just 4 bytes of memory (this is the size of an integer on 64-bit systems), this is an underestimation, but fine for our purposes. So, using max depth of 10, we get a tree with 2^10 nodes = 1024 nodes = 1024 * 4 bytes = 4 kilobytes, that's reasonable! Using a max depth of 20, we get 2^20 nodes = 1024 * 1024 nodes = 1024 * 1024 * 4 bytes = 4 megabytes, ok, still tractable. Max depth 30, we've got 2^30 nodes = 4 gigabytes, max depth 40 — 2^40 nodes = 4 terabytes. That's already crazy territory!\n",
    "    \n",
    "So, all this means that we're pretty limited both in terms of how 'big' models we can try and how many models we can try. So, it is hopeless to try out all possible combinations of hyperparameters. One nice idea is to randomly sample hyperparameter values and see if something works (this is what [`RandomizedSearchCV`](https://scikit-learn.org/stable/modules/grid_search.html#randomized-parameter-search) does). Going further we can try reducing the probability to sample from regions of hyperparameters where we already trained a model and it wasn't good. This is the idea behind bayesian optimization (here's a [nice article](https://distill.pub/2020/bayesian-optimization) if you want to learn more). Hyperparameter tuning is very much empirical, so you're just trying out different stuff until you find something works good enough. Apart from that, you're probably going to get more out of the model by cleaning the data, collecting more data, feature engineering and so on.\n",
    "    \n",
    "What model is good depends entirely on the data you're working with. Sometimes a simple model like logistic regression can work great, sometimes you need something more advanced. There's the famous [no free lunch theorem](https://en.wikipedia.org/wiki/No_free_lunch_theorem) in machine learning, which essentially means that there's no best algorithm (for all datasets).\n",
    "\n",
    "</div>"
   ]
  },
  {
   "cell_type": "markdown",
   "id": "e8bfed5c",
   "metadata": {},
   "source": [
    "# Quality of Different Models (Test Set) <a id=\"qtst\"></a>"
   ]
  },
  {
   "cell_type": "markdown",
   "id": "b6a0aabc",
   "metadata": {},
   "source": [
    "## DecisionTreeClassifier <a id=\"dtct\"></a>"
   ]
  },
  {
   "cell_type": "code",
   "execution_count": 29,
   "id": "3a36f753",
   "metadata": {},
   "outputs": [
    {
     "name": "stdout",
     "output_type": "stream",
     "text": [
      "0.8009331259720062\n"
     ]
    }
   ],
   "source": [
    "model = DecisionTreeClassifier(random_state=12345, max_depth=9, min_samples_split=11,\\\n",
    "                                                   min_samples_leaf=3,splitter='random',criterion='gini')\n",
    "model.fit(features_train, target_train)\n",
    "test_predictions = model.predict(features_test)\n",
    "print(accuracy_score(test_predictions,target_test))"
   ]
  },
  {
   "cell_type": "markdown",
   "id": "28f53e78",
   "metadata": {},
   "source": [
    "## RandomForestClassifier <a id=\"rfct\"></a>"
   ]
  },
  {
   "cell_type": "code",
   "execution_count": 30,
   "id": "f0a1c629",
   "metadata": {},
   "outputs": [
    {
     "name": "stdout",
     "output_type": "stream",
     "text": [
      "0.8009331259720062\n"
     ]
    }
   ],
   "source": [
    "model = RandomForestClassifier(random_state=12345, max_depth=6, min_samples_split=9,\\\n",
    "                               min_samples_leaf=4, criterion='gini', n_estimators=8)\n",
    "model.fit(features_train, target_train)\n",
    "test_predictions = model.predict(features_test)\n",
    "print(accuracy_score(test_predictions,target_test))"
   ]
  },
  {
   "cell_type": "markdown",
   "id": "c1a14ba3",
   "metadata": {},
   "source": [
    "## LogisticRegression <a id=\"logrt\"></a>"
   ]
  },
  {
   "cell_type": "code",
   "execution_count": 31,
   "id": "bff6668d",
   "metadata": {},
   "outputs": [],
   "source": [
    "# dct = pd.DataFrame()\n",
    "# for C in [0.01,0.1,1,10]:\n",
    "#     for penalty in ['l1','l2']:\n",
    "#         for intercept_scaling in [0.1,1,10,100]:\n",
    "#             model = LogisticRegression(random_state=12345, penalty=penalty, fit_intercept=True,\\\n",
    "#                                            solver='liblinear', max_iter=200, C=C, intercept_scaling=intercept_scaling)\n",
    "#             model.fit(features_train, target_train)\n",
    "#             dct = dct.append({'penalty': penalty, 'C': C,'intercept_scaling': intercept_scaling, \\\n",
    "#                               'score': model.score(features_test,target_test)}, ignore_index=True)\n",
    "\n",
    "# dct.sort_values('score',ascending=False, inplace=True)\n",
    "# dct.head()"
   ]
  },
  {
   "cell_type": "markdown",
   "id": "fc3d9fb5",
   "metadata": {},
   "source": [
    "*###Score of lesser quality due to slight over-fitting. 74% accuracy in test vs 76% accuracy in training.###*"
   ]
  },
  {
   "cell_type": "markdown",
   "id": "d202a40f",
   "metadata": {},
   "source": [
    "<div class=\"alert alert-danger\">\n",
    "<s><b>Reviewer's comment</b>\n",
    "\n",
    "Here you're essentially doing hyperparameter tuning again, this time using the test set. This is not a good idea: we use the test set to get an unbiased estimate of the model's generalization performance, but we need completely new data which was never used for either training or hyperparameter tuning, so it only works if a model is evaluated on the test set only once. Otherwise, you just have a second validation set, and the score it gives is biased.\n",
    "\n",
    "</div>"
   ]
  },
  {
   "cell_type": "code",
   "execution_count": 32,
   "id": "0f446c3a",
   "metadata": {},
   "outputs": [
    {
     "name": "stdout",
     "output_type": "stream",
     "text": [
      "0.7433903576982893\n"
     ]
    }
   ],
   "source": [
    "model = LogisticRegression(random_state=12345, penalty='l2', fit_intercept=True,\\\n",
    "                           solver='liblinear', max_iter=200, C=0.01, intercept_scaling=10.0)\n",
    "model.fit(features_train, target_train)\n",
    "test_predictions = model.predict(features_test)\n",
    "print(accuracy_score(test_predictions,target_test))"
   ]
  },
  {
   "cell_type": "markdown",
   "id": "1fe75d6f",
   "metadata": {},
   "source": [
    "<div class=\"alert alert-info\">\n",
    "Did it because i wasn't sure which values to choose, the training offered several options. But of course, test can't be biased...\n",
    "</div>"
   ]
  },
  {
   "cell_type": "markdown",
   "id": "5bd6d90e",
   "metadata": {},
   "source": [
    "<div class=\"alert alert-success\">\n",
    "<b>Reviewer's comment V2</b>\n",
    "\n",
    "Ok, just keep in mind for the future that the test set should be used to evaluate the final model once after all hyperparameters were already fixed to make sure we're getting an unbiased estimate of its generalization performance :)\n",
    "\n",
    "</div>"
   ]
  },
  {
   "cell_type": "markdown",
   "id": "36570d22",
   "metadata": {},
   "source": [
    "## DecisionTreeRegressor <a id=\"dtrt\"></a>"
   ]
  },
  {
   "cell_type": "code",
   "execution_count": 33,
   "id": "0fff84c5",
   "metadata": {},
   "outputs": [
    {
     "data": {
      "text/plain": [
       "0.3402118983058666"
      ]
     },
     "execution_count": 33,
     "metadata": {},
     "output_type": "execute_result"
    }
   ],
   "source": [
    "model = DecisionTreeRegressor(random_state=12345, max_depth=13, \\\n",
    "                              min_samples_leaf=6, criterion='poisson', splitter='random')\n",
    "model.fit(features_train, target_train)\n",
    "model.score(features_test, target_test)"
   ]
  },
  {
   "cell_type": "markdown",
   "id": "cb0634aa",
   "metadata": {},
   "source": [
    "The score is much better than the training score, yet both scores are horrible, and are worse than a random choice, so that fluctuation might be part of that randomness as well."
   ]
  },
  {
   "cell_type": "markdown",
   "id": "28b567a0",
   "metadata": {},
   "source": [
    "## RandomForestRegressor <a id=\"rfrt\"></a>"
   ]
  },
  {
   "cell_type": "code",
   "execution_count": 34,
   "id": "a8a387db",
   "metadata": {},
   "outputs": [
    {
     "data": {
      "text/plain": [
       "0.31798793749942433"
      ]
     },
     "execution_count": 34,
     "metadata": {},
     "output_type": "execute_result"
    }
   ],
   "source": [
    "model = RandomForestRegressor(random_state=12345, max_depth=8, min_samples_split=11,\\\n",
    "                                                   min_samples_leaf=3, criterion='squared_error', n_estimators=8)\n",
    "model.fit(features_train, target_train)\n",
    "model.score(features_test, target_test)"
   ]
  },
  {
   "cell_type": "markdown",
   "id": "d3f09202",
   "metadata": {},
   "source": [
    "Again, the score is better than the training's one, but both are pretty bad and it doesn't mean anything of importance."
   ]
  },
  {
   "cell_type": "markdown",
   "id": "de396fb6",
   "metadata": {},
   "source": [
    "## LinearRegression <a id=\"linrt\"></a>"
   ]
  },
  {
   "cell_type": "code",
   "execution_count": 35,
   "id": "1d42c929",
   "metadata": {},
   "outputs": [
    {
     "data": {
      "text/plain": [
       "0.05666279057072421"
      ]
     },
     "execution_count": 35,
     "metadata": {},
     "output_type": "execute_result"
    }
   ],
   "source": [
    "model = LinearRegression()\n",
    "model.fit(features_train, target_train)\n",
    "model.score(features_test, target_test)"
   ]
  },
  {
   "cell_type": "markdown",
   "id": "518ea3f2",
   "metadata": {},
   "source": [
    "Around the same accuracy witnessed at training. Much worse than tree's and forest's regression scores."
   ]
  },
  {
   "cell_type": "markdown",
   "id": "0b67112c",
   "metadata": {},
   "source": [
    "<div class=\"alert alert-success\">\n",
    "<b>Reviewer's comment</b>\n",
    "\n",
    "Ok, final models (except logistic regression) were correctly evaluated on the test set for an unbiased estimate of their generalization performance\n",
    "\n",
    "</div>"
   ]
  },
  {
   "cell_type": "markdown",
   "id": "1f7d0d84",
   "metadata": {},
   "source": [
    "## Test conclusion <a id='conctest'></a>"
   ]
  },
  {
   "cell_type": "markdown",
   "id": "a7b136f4",
   "metadata": {},
   "source": [
    "Forecasting a user plan is a classification problem, and indeed classification algorithms, together with logistic regression, had much better scores than their regression/linear counterparts. **Best score was 80%, by both DecisionTreeClassifier and RandomForestClassifier algorithms, who passed the 75% test accuracy condition**. LogisticRegression was close, at 74.3% test accuracy.\n",
    "<p>The fact both DecisionTreeClassifier and RandomForestClassifier have the exact same score might suggest the algorithm traversed through the same tree in both cases, meaning the forest traversed was actually a tree. It might be because of the relative small size of the users dataset, together with a \"simple\" connection between the features and the target - a connection that when translated to a tree, results in questions built on top of one another, and not a lot of different unrelated paths for an answer. With `RandomForestClassifier` considered an accurate algorithm, both 80% score algorithms have some added certainty</p>"
   ]
  },
  {
   "cell_type": "markdown",
   "id": "2d5fc2d7",
   "metadata": {},
   "source": [
    "<div class=\"alert alert-success\">\n",
    "<b>Reviewer's comment</b>\n",
    "\n",
    "Conclusions make sense!\n",
    "    \n",
    "</div>"
   ]
  },
  {
   "cell_type": "markdown",
   "id": "6853c701",
   "metadata": {},
   "source": [
    "# Sanity Check <a id=\"schk\"></a>"
   ]
  },
  {
   "cell_type": "markdown",
   "id": "f3d19fdc",
   "metadata": {},
   "source": [
    "Only models to pass sanity check are the ones with accuracy > 50, preferably by some margin. Those models are those obtained using the `DecisionTreeClassifier`, `RandomForestClassifier` and `LogisticRegression` algorithms."
   ]
  },
  {
   "cell_type": "markdown",
   "id": "9c5ce1d5",
   "metadata": {},
   "source": [
    "<div class=\"alert alert-warning\">\n",
    "<b>Reviewer's comment</b>\n",
    "\n",
    "We can actually come up with a better baseline for accuracy. Considering that the target distribution is imbalanced (about 70:30), a constant model always predicting the majority class will get an accuracy equal to the share of the majority class (in this case ~70%) for free. This is one of the reasons why accuracy is not really a good metric for imbalanced data. Other than that, accuracy treats both false positives and false negatives the same, but it's possible that there is different cost associated to these two types of mistakes (for example, which is worse: if an algorithm falsely predicts that someone has cancer and they go through additional checks or if an algorithm falsely predicts that someone doesn't have cancer and they just go about their life not knowing they are slowly dying?). The next sprint explores these themes further!\n",
    "\n",
    "</div>"
   ]
  },
  {
   "cell_type": "markdown",
   "id": "8a5193ea",
   "metadata": {},
   "source": [
    "<div class=\"alert alert-info\">\n",
    "  Great. Glad its only a recommendation and not a warning:) Can't think for now how to approach this problem, only that the further the ratio is from 50-50 the problem is harder.. Now im curious for next sprint!\n",
    "</div>"
   ]
  },
  {
   "cell_type": "markdown",
   "id": "bc0376a9",
   "metadata": {},
   "source": [
    "<div class=\"alert alert-success\">\n",
    "<b>Reviewer's comment V2</b>\n",
    "\n",
    "Yeah, no problem, you'll find out more soon! :)\n",
    "\n",
    "</div>"
   ]
  },
  {
   "cell_type": "code",
   "execution_count": null,
   "id": "486e3da4",
   "metadata": {},
   "outputs": [],
   "source": []
  }
 ],
 "metadata": {
  "ExecuteTimeLog": [
   {
    "duration": 308,
    "start_time": "2022-03-06T14:00:55.723Z"
   },
   {
    "duration": 256,
    "start_time": "2022-03-06T14:03:41.873Z"
   },
   {
    "duration": 11903,
    "start_time": "2022-03-06T14:03:49.251Z"
   },
   {
    "duration": 1564,
    "start_time": "2022-03-06T14:04:01.158Z"
   },
   {
    "duration": 199,
    "start_time": "2022-03-06T14:04:02.725Z"
   },
   {
    "duration": 9,
    "start_time": "2022-03-06T14:04:02.927Z"
   },
   {
    "duration": 32,
    "start_time": "2022-03-06T14:04:02.939Z"
   },
   {
    "duration": 16,
    "start_time": "2022-03-06T14:04:02.981Z"
   },
   {
    "duration": 74,
    "start_time": "2022-03-06T14:04:03.000Z"
   },
   {
    "duration": 11,
    "start_time": "2022-03-06T14:04:03.079Z"
   },
   {
    "duration": 65830,
    "start_time": "2022-03-06T14:04:03.094Z"
   },
   {
    "duration": 46430,
    "start_time": "2022-03-06T14:05:08.927Z"
   },
   {
    "duration": 1460,
    "start_time": "2022-03-06T14:05:55.359Z"
   },
   {
    "duration": 19,
    "start_time": "2022-03-06T14:05:56.822Z"
   },
   {
    "duration": 230,
    "start_time": "2022-03-06T14:05:56.843Z"
   },
   {
    "duration": 15,
    "start_time": "2022-03-06T14:05:57.076Z"
   },
   {
    "duration": 316,
    "start_time": "2022-03-06T14:05:57.094Z"
   },
   {
    "duration": 10,
    "start_time": "2022-03-06T14:05:57.413Z"
   },
   {
    "duration": 1372,
    "start_time": "2022-03-06T14:05:57.425Z"
   },
   {
    "duration": 10,
    "start_time": "2022-03-06T14:05:58.799Z"
   },
   {
    "duration": 12,
    "start_time": "2022-03-06T14:05:58.812Z"
   },
   {
    "duration": 21329,
    "start_time": "2022-03-06T14:05:58.827Z"
   },
   {
    "duration": 26,
    "start_time": "2022-03-06T14:06:20.158Z"
   },
   {
    "duration": 36944,
    "start_time": "2022-03-06T14:06:20.187Z"
   },
   {
    "duration": 8,
    "start_time": "2022-03-06T14:06:57.136Z"
   },
   {
    "duration": 95,
    "start_time": "2022-03-06T14:06:57.146Z"
   },
   {
    "duration": 564,
    "start_time": "2022-03-06T14:06:57.244Z"
   },
   {
    "duration": 4,
    "start_time": "2022-03-06T14:06:57.810Z"
   },
   {
    "duration": 96143,
    "start_time": "2022-03-06T14:06:57.816Z"
   },
   {
    "duration": 44,
    "start_time": "2022-03-06T14:08:33.962Z"
   },
   {
    "duration": 15,
    "start_time": "2022-03-06T14:08:34.009Z"
   },
   {
    "duration": 80,
    "start_time": "2022-03-06T14:08:34.026Z"
   },
   {
    "duration": 3,
    "start_time": "2022-03-06T14:08:34.109Z"
   },
   {
    "duration": 423,
    "start_time": "2022-03-06T14:08:34.114Z"
   },
   {
    "duration": 1745,
    "start_time": "2022-03-06T14:08:32.794Z"
   },
   {
    "duration": 1736,
    "start_time": "2022-03-06T14:08:32.805Z"
   },
   {
    "duration": 1687,
    "start_time": "2022-03-06T14:08:32.855Z"
   },
   {
    "duration": 24,
    "start_time": "2022-03-06T14:33:22.498Z"
   },
   {
    "duration": 620,
    "start_time": "2022-03-06T14:33:35.891Z"
   },
   {
    "duration": 4077,
    "start_time": "2022-03-06T14:52:47.215Z"
   },
   {
    "duration": 1393,
    "start_time": "2022-03-06T14:52:51.296Z"
   },
   {
    "duration": 170,
    "start_time": "2022-03-06T14:52:52.692Z"
   },
   {
    "duration": 12,
    "start_time": "2022-03-06T14:52:52.865Z"
   },
   {
    "duration": 24,
    "start_time": "2022-03-06T14:52:52.880Z"
   },
   {
    "duration": 20,
    "start_time": "2022-03-06T14:52:52.907Z"
   },
   {
    "duration": 101,
    "start_time": "2022-03-06T14:52:52.930Z"
   },
   {
    "duration": 11,
    "start_time": "2022-03-06T14:52:53.036Z"
   },
   {
    "duration": 77356,
    "start_time": "2022-03-06T14:52:53.075Z"
   },
   {
    "duration": 44407,
    "start_time": "2022-03-06T14:54:10.434Z"
   },
   {
    "duration": 1382,
    "start_time": "2022-03-06T14:54:54.843Z"
   },
   {
    "duration": 18,
    "start_time": "2022-03-06T14:54:56.227Z"
   },
   {
    "duration": 227,
    "start_time": "2022-03-06T14:54:56.247Z"
   },
   {
    "duration": 12,
    "start_time": "2022-03-06T14:54:56.477Z"
   },
   {
    "duration": 305,
    "start_time": "2022-03-06T14:54:56.491Z"
   },
   {
    "duration": 14,
    "start_time": "2022-03-06T14:54:56.799Z"
   },
   {
    "duration": 1437,
    "start_time": "2022-03-06T14:54:56.816Z"
   },
   {
    "duration": 20,
    "start_time": "2022-03-06T14:54:58.255Z"
   },
   {
    "duration": 13,
    "start_time": "2022-03-06T14:54:58.277Z"
   },
   {
    "duration": 20807,
    "start_time": "2022-03-06T14:54:58.292Z"
   },
   {
    "duration": 11,
    "start_time": "2022-03-06T14:55:19.103Z"
   },
   {
    "duration": 37171,
    "start_time": "2022-03-06T14:55:19.117Z"
   },
   {
    "duration": 11,
    "start_time": "2022-03-06T14:55:56.294Z"
   },
   {
    "duration": 115,
    "start_time": "2022-03-06T14:55:56.308Z"
   },
   {
    "duration": 737,
    "start_time": "2022-03-06T14:55:56.426Z"
   },
   {
    "duration": 5,
    "start_time": "2022-03-06T14:55:57.174Z"
   },
   {
    "duration": 100026,
    "start_time": "2022-03-06T14:55:57.181Z"
   },
   {
    "duration": 33,
    "start_time": "2022-03-06T14:57:37.210Z"
   },
   {
    "duration": 41,
    "start_time": "2022-03-06T14:57:37.245Z"
   },
   {
    "duration": 45,
    "start_time": "2022-03-06T14:57:37.289Z"
   },
   {
    "duration": 3,
    "start_time": "2022-03-06T14:57:37.337Z"
   },
   {
    "duration": 28,
    "start_time": "2022-03-06T14:57:37.374Z"
   },
   {
    "duration": 30,
    "start_time": "2022-03-06T14:57:37.405Z"
   },
   {
    "duration": 81,
    "start_time": "2022-03-06T14:57:37.438Z"
   },
   {
    "duration": 16,
    "start_time": "2022-03-06T14:57:37.522Z"
   },
   {
    "duration": 4045,
    "start_time": "2022-03-06T15:07:50.465Z"
   },
   {
    "duration": 1598,
    "start_time": "2022-03-06T15:07:54.514Z"
   },
   {
    "duration": 169,
    "start_time": "2022-03-06T15:07:56.116Z"
   },
   {
    "duration": 10,
    "start_time": "2022-03-06T15:07:56.288Z"
   },
   {
    "duration": 35,
    "start_time": "2022-03-06T15:07:56.301Z"
   },
   {
    "duration": 34,
    "start_time": "2022-03-06T15:07:56.339Z"
   },
   {
    "duration": 58,
    "start_time": "2022-03-06T15:07:56.376Z"
   },
   {
    "duration": 9,
    "start_time": "2022-03-06T15:07:56.474Z"
   },
   {
    "duration": 73969,
    "start_time": "2022-03-06T15:07:56.487Z"
   },
   {
    "duration": 52637,
    "start_time": "2022-03-06T15:09:10.458Z"
   },
   {
    "duration": 1467,
    "start_time": "2022-03-06T15:10:03.097Z"
   },
   {
    "duration": 21,
    "start_time": "2022-03-06T15:10:04.574Z"
   },
   {
    "duration": 231,
    "start_time": "2022-03-06T15:10:04.598Z"
   },
   {
    "duration": 13,
    "start_time": "2022-03-06T15:10:04.832Z"
   },
   {
    "duration": 307,
    "start_time": "2022-03-06T15:10:04.848Z"
   },
   {
    "duration": 23,
    "start_time": "2022-03-06T15:10:05.157Z"
   },
   {
    "duration": 1326,
    "start_time": "2022-03-06T15:10:05.183Z"
   },
   {
    "duration": 11,
    "start_time": "2022-03-06T15:10:06.511Z"
   },
   {
    "duration": 13,
    "start_time": "2022-03-06T15:10:06.524Z"
   },
   {
    "duration": 20004,
    "start_time": "2022-03-06T15:10:06.540Z"
   },
   {
    "duration": 12,
    "start_time": "2022-03-06T15:10:26.546Z"
   },
   {
    "duration": 34978,
    "start_time": "2022-03-06T15:10:26.574Z"
   },
   {
    "duration": 17,
    "start_time": "2022-03-06T15:11:01.559Z"
   },
   {
    "duration": 95,
    "start_time": "2022-03-06T15:11:01.579Z"
   },
   {
    "duration": 787,
    "start_time": "2022-03-06T15:11:01.676Z"
   },
   {
    "duration": 4,
    "start_time": "2022-03-06T15:11:02.473Z"
   },
   {
    "duration": 116558,
    "start_time": "2022-03-06T15:11:02.480Z"
   },
   {
    "duration": 46,
    "start_time": "2022-03-06T15:12:59.041Z"
   },
   {
    "duration": 14,
    "start_time": "2022-03-06T15:12:59.089Z"
   },
   {
    "duration": 87,
    "start_time": "2022-03-06T15:12:59.106Z"
   },
   {
    "duration": 3,
    "start_time": "2022-03-06T15:12:59.196Z"
   },
   {
    "duration": 27,
    "start_time": "2022-03-06T15:12:59.202Z"
   },
   {
    "duration": 49,
    "start_time": "2022-03-06T15:12:59.232Z"
   },
   {
    "duration": 92,
    "start_time": "2022-03-06T15:12:59.283Z"
   },
   {
    "duration": 18,
    "start_time": "2022-03-06T15:12:59.377Z"
   },
   {
    "duration": 3744,
    "start_time": "2022-03-06T15:42:29.708Z"
   },
   {
    "duration": 1426,
    "start_time": "2022-03-06T15:42:33.456Z"
   },
   {
    "duration": 174,
    "start_time": "2022-03-06T15:42:34.885Z"
   },
   {
    "duration": 10,
    "start_time": "2022-03-06T15:42:35.062Z"
   },
   {
    "duration": 18,
    "start_time": "2022-03-06T15:42:35.074Z"
   },
   {
    "duration": 16,
    "start_time": "2022-03-06T15:42:35.095Z"
   },
   {
    "duration": 87,
    "start_time": "2022-03-06T15:42:35.113Z"
   },
   {
    "duration": 7,
    "start_time": "2022-03-06T15:42:35.204Z"
   },
   {
    "duration": 66691,
    "start_time": "2022-03-06T15:42:35.215Z"
   },
   {
    "duration": 51936,
    "start_time": "2022-03-06T15:43:41.909Z"
   },
   {
    "duration": 1521,
    "start_time": "2022-03-06T15:44:33.848Z"
   },
   {
    "duration": 17,
    "start_time": "2022-03-06T15:44:35.373Z"
   },
   {
    "duration": 217,
    "start_time": "2022-03-06T15:44:35.393Z"
   },
   {
    "duration": 11,
    "start_time": "2022-03-06T15:44:35.612Z"
   },
   {
    "duration": 302,
    "start_time": "2022-03-06T15:44:35.626Z"
   },
   {
    "duration": 14,
    "start_time": "2022-03-06T15:44:35.931Z"
   },
   {
    "duration": 1897,
    "start_time": "2022-03-06T15:44:35.948Z"
   },
   {
    "duration": 26,
    "start_time": "2022-03-06T15:44:37.848Z"
   },
   {
    "duration": 15,
    "start_time": "2022-03-06T15:44:37.877Z"
   },
   {
    "duration": 29447,
    "start_time": "2022-03-06T15:44:37.896Z"
   },
   {
    "duration": 28,
    "start_time": "2022-03-06T15:45:07.347Z"
   },
   {
    "duration": 37779,
    "start_time": "2022-03-06T15:45:07.378Z"
   },
   {
    "duration": 18,
    "start_time": "2022-03-06T15:45:45.162Z"
   },
   {
    "duration": 70,
    "start_time": "2022-03-06T15:45:45.183Z"
   },
   {
    "duration": 528,
    "start_time": "2022-03-06T15:45:45.274Z"
   },
   {
    "duration": 3,
    "start_time": "2022-03-06T15:45:45.805Z"
   },
   {
    "duration": 96515,
    "start_time": "2022-03-06T15:45:45.811Z"
   },
   {
    "duration": 52,
    "start_time": "2022-03-06T15:47:22.329Z"
   },
   {
    "duration": 16,
    "start_time": "2022-03-06T15:47:22.384Z"
   },
   {
    "duration": 85,
    "start_time": "2022-03-06T15:47:22.403Z"
   },
   {
    "duration": 4,
    "start_time": "2022-03-06T15:47:22.492Z"
   },
   {
    "duration": 41,
    "start_time": "2022-03-06T15:47:22.498Z"
   },
   {
    "duration": 39,
    "start_time": "2022-03-06T15:47:22.543Z"
   },
   {
    "duration": 53,
    "start_time": "2022-03-06T15:47:22.584Z"
   },
   {
    "duration": 47,
    "start_time": "2022-03-06T15:47:22.640Z"
   }
  ],
  "kernelspec": {
   "display_name": "Python 3 (ipykernel)",
   "language": "python",
   "name": "python3"
  },
  "language_info": {
   "codemirror_mode": {
    "name": "ipython",
    "version": 3
   },
   "file_extension": ".py",
   "mimetype": "text/x-python",
   "name": "python",
   "nbconvert_exporter": "python",
   "pygments_lexer": "ipython3",
   "version": "3.9.5"
  },
  "toc": {
   "base_numbering": 1,
   "nav_menu": {},
   "number_sections": true,
   "sideBar": true,
   "skip_h1_title": true,
   "title_cell": "Table of Contents",
   "title_sidebar": "Contents",
   "toc_cell": false,
   "toc_position": {},
   "toc_section_display": true,
   "toc_window_display": false
  }
 },
 "nbformat": 4,
 "nbformat_minor": 5
}
